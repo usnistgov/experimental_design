{
 "cells": [
  {
   "cell_type": "markdown",
   "metadata": {},
   "source": [
    "# Experimental Designs Example\n",
    "experimental_design.py is a module to create statistical experimental designs. Each design is started with a nested dictionary and outputed in a list of dictionaries format that is equivalent to a flat table where the column names are factor names, the rows are a realization of a test and the values are test values or factor levels."
   ]
  },
  {
   "cell_type": "markdown",
   "metadata": {},
   "source": [
    "## Imports"
   ]
  },
  {
   "cell_type": "code",
   "execution_count": 1,
   "metadata": {},
   "outputs": [
    {
     "name": "stdout",
     "output_type": "stream",
     "text": [
      "Importing experimental_design.experimental_designs\n",
      "It took 0.002046 s to import experimental_design.experimental_designs\n",
      "It took 0.002081 s to import all of the active modules\n"
     ]
    }
   ],
   "source": [
    "import sys\n",
    "import os\n",
    "import pandas as pd\n",
    "import experimental_design"
   ]
  },
  {
   "cell_type": "markdown",
   "metadata": {},
   "source": [
    "## 2x2 Factorial Example\n",
    "A very simple design would be a 2 factors with two levels. Here we use + and - as factor levels and -1 and 1 as factor values."
   ]
  },
  {
   "cell_type": "code",
   "execution_count": 2,
   "metadata": {},
   "outputs": [],
   "source": [
    "design = {}\n",
    "design[\"Factor_1\"] = {\"-\":-1,\"+\":1}\n",
    "design[\"Factor_2\"] = {\"-\":-1,\"+\":1}"
   ]
  },
  {
   "cell_type": "code",
   "execution_count": 3,
   "metadata": {},
   "outputs": [],
   "source": [
    "test_conditions = experimental_design.fully_factorial(design)"
   ]
  },
  {
   "cell_type": "code",
   "execution_count": 4,
   "metadata": {},
   "outputs": [
    {
     "data": {
      "text/plain": [
       "[{'Factor_1': 1, 'Factor_2': -1},\n",
       " {'Factor_1': -1, 'Factor_2': 1},\n",
       " {'Factor_1': 1, 'Factor_2': 1},\n",
       " {'Factor_1': -1, 'Factor_2': -1}]"
      ]
     },
     "execution_count": 4,
     "metadata": {},
     "output_type": "execute_result"
    }
   ],
   "source": [
    "test_conditions"
   ]
  },
  {
   "cell_type": "code",
   "execution_count": 5,
   "metadata": {},
   "outputs": [],
   "source": [
    "# to format and manipulate the test_conditions transforming it to a pandas dataframe is easy\n",
    "test_conditions_df = pd.DataFrame(test_conditions)"
   ]
  },
  {
   "cell_type": "code",
   "execution_count": 6,
   "metadata": {},
   "outputs": [
    {
     "data": {
      "application/vnd.microsoft.datawrangler.viewer.v0+json": {
       "columns": [
        {
         "name": "index",
         "rawType": "int64",
         "type": "integer"
        },
        {
         "name": "Factor_1",
         "rawType": "int64",
         "type": "integer"
        },
        {
         "name": "Factor_2",
         "rawType": "int64",
         "type": "integer"
        }
       ],
       "conversionMethod": "pd.DataFrame",
       "ref": "a1172054-e6f8-4e2d-aec2-e9e0dde775c6",
       "rows": [
        [
         "0",
         "1",
         "-1"
        ],
        [
         "1",
         "-1",
         "1"
        ],
        [
         "2",
         "1",
         "1"
        ],
        [
         "3",
         "-1",
         "-1"
        ]
       ],
       "shape": {
        "columns": 2,
        "rows": 4
       }
      },
      "text/html": [
       "<div>\n",
       "<style scoped>\n",
       "    .dataframe tbody tr th:only-of-type {\n",
       "        vertical-align: middle;\n",
       "    }\n",
       "\n",
       "    .dataframe tbody tr th {\n",
       "        vertical-align: top;\n",
       "    }\n",
       "\n",
       "    .dataframe thead th {\n",
       "        text-align: right;\n",
       "    }\n",
       "</style>\n",
       "<table border=\"1\" class=\"dataframe\">\n",
       "  <thead>\n",
       "    <tr style=\"text-align: right;\">\n",
       "      <th></th>\n",
       "      <th>Factor_1</th>\n",
       "      <th>Factor_2</th>\n",
       "    </tr>\n",
       "  </thead>\n",
       "  <tbody>\n",
       "    <tr>\n",
       "      <th>0</th>\n",
       "      <td>1</td>\n",
       "      <td>-1</td>\n",
       "    </tr>\n",
       "    <tr>\n",
       "      <th>1</th>\n",
       "      <td>-1</td>\n",
       "      <td>1</td>\n",
       "    </tr>\n",
       "    <tr>\n",
       "      <th>2</th>\n",
       "      <td>1</td>\n",
       "      <td>1</td>\n",
       "    </tr>\n",
       "    <tr>\n",
       "      <th>3</th>\n",
       "      <td>-1</td>\n",
       "      <td>-1</td>\n",
       "    </tr>\n",
       "  </tbody>\n",
       "</table>\n",
       "</div>"
      ],
      "text/plain": [
       "   Factor_1  Factor_2\n",
       "0         1        -1\n",
       "1        -1         1\n",
       "2         1         1\n",
       "3        -1        -1"
      ]
     },
     "execution_count": 6,
     "metadata": {},
     "output_type": "execute_result"
    }
   ],
   "source": [
    "test_conditions_df"
   ]
  },
  {
   "cell_type": "markdown",
   "metadata": {},
   "source": [
    "### Optional parameters"
   ]
  },
  {
   "cell_type": "code",
   "execution_count": null,
   "metadata": {},
   "outputs": [
    {
     "data": {
      "application/vnd.microsoft.datawrangler.viewer.v0+json": {
       "columns": [
        {
         "name": "index",
         "rawType": "int64",
         "type": "integer"
        },
        {
         "name": "Factor_1",
         "rawType": "int64",
         "type": "integer"
        },
        {
         "name": "Factor_2",
         "rawType": "int64",
         "type": "integer"
        }
       ],
       "conversionMethod": "pd.DataFrame",
       "ref": "87379ed3-391f-4e43-b430-692f78b63cce",
       "rows": [
        [
         "0",
         "-1",
         "-1"
        ],
        [
         "1",
         "-1",
         "1"
        ],
        [
         "2",
         "1",
         "-1"
        ],
        [
         "3",
         "1",
         "1"
        ]
       ],
       "shape": {
        "columns": 2,
        "rows": 4
       }
      },
      "text/html": [
       "<div>\n",
       "<style scoped>\n",
       "    .dataframe tbody tr th:only-of-type {\n",
       "        vertical-align: middle;\n",
       "    }\n",
       "\n",
       "    .dataframe tbody tr th {\n",
       "        vertical-align: top;\n",
       "    }\n",
       "\n",
       "    .dataframe thead th {\n",
       "        text-align: right;\n",
       "    }\n",
       "</style>\n",
       "<table border=\"1\" class=\"dataframe\">\n",
       "  <thead>\n",
       "    <tr style=\"text-align: right;\">\n",
       "      <th></th>\n",
       "      <th>Factor_1</th>\n",
       "      <th>Factor_2</th>\n",
       "    </tr>\n",
       "  </thead>\n",
       "  <tbody>\n",
       "    <tr>\n",
       "      <th>0</th>\n",
       "      <td>-1</td>\n",
       "      <td>-1</td>\n",
       "    </tr>\n",
       "    <tr>\n",
       "      <th>1</th>\n",
       "      <td>-1</td>\n",
       "      <td>1</td>\n",
       "    </tr>\n",
       "    <tr>\n",
       "      <th>2</th>\n",
       "      <td>1</td>\n",
       "      <td>-1</td>\n",
       "    </tr>\n",
       "    <tr>\n",
       "      <th>3</th>\n",
       "      <td>1</td>\n",
       "      <td>1</td>\n",
       "    </tr>\n",
       "  </tbody>\n",
       "</table>\n",
       "</div>"
      ],
      "text/plain": [
       "   Factor_1  Factor_2\n",
       "0        -1        -1\n",
       "1        -1         1\n",
       "2         1        -1\n",
       "3         1         1"
      ]
     },
     "execution_count": 7,
     "metadata": {},
     "output_type": "execute_result"
    }
   ],
   "source": [
    "# there are several optional parameters that determine if test_conditions is randomized,\n",
    "# if the level or values are returned, a reproducible random seed\n",
    "# this is not randomized\n",
    "test_conditions_options = experimental_design.fully_factorial(design_dictionary= design, \n",
    "                                          randomized= False, \n",
    "                                          run_values= \"values\",\n",
    "                                          random_seed= 42)\n",
    "test_conditions_options_df = pd.DataFrame(test_conditions_options)\n",
    "test_conditions_options_df"
   ]
  },
  {
   "cell_type": "code",
   "execution_count": 8,
   "metadata": {},
   "outputs": [
    {
     "data": {
      "application/vnd.microsoft.datawrangler.viewer.v0+json": {
       "columns": [
        {
         "name": "index",
         "rawType": "int64",
         "type": "integer"
        },
        {
         "name": "Factor_1",
         "rawType": "object",
         "type": "string"
        },
        {
         "name": "Factor_2",
         "rawType": "object",
         "type": "string"
        }
       ],
       "conversionMethod": "pd.DataFrame",
       "ref": "6e01a15b-c548-41f7-b708-98367c2f96f6",
       "rows": [
        [
         "0",
         "-",
         "-"
        ],
        [
         "1",
         "-",
         "+"
        ],
        [
         "2",
         "+",
         "-"
        ],
        [
         "3",
         "+",
         "+"
        ]
       ],
       "shape": {
        "columns": 2,
        "rows": 4
       }
      },
      "text/html": [
       "<div>\n",
       "<style scoped>\n",
       "    .dataframe tbody tr th:only-of-type {\n",
       "        vertical-align: middle;\n",
       "    }\n",
       "\n",
       "    .dataframe tbody tr th {\n",
       "        vertical-align: top;\n",
       "    }\n",
       "\n",
       "    .dataframe thead th {\n",
       "        text-align: right;\n",
       "    }\n",
       "</style>\n",
       "<table border=\"1\" class=\"dataframe\">\n",
       "  <thead>\n",
       "    <tr style=\"text-align: right;\">\n",
       "      <th></th>\n",
       "      <th>Factor_1</th>\n",
       "      <th>Factor_2</th>\n",
       "    </tr>\n",
       "  </thead>\n",
       "  <tbody>\n",
       "    <tr>\n",
       "      <th>0</th>\n",
       "      <td>-</td>\n",
       "      <td>-</td>\n",
       "    </tr>\n",
       "    <tr>\n",
       "      <th>1</th>\n",
       "      <td>-</td>\n",
       "      <td>+</td>\n",
       "    </tr>\n",
       "    <tr>\n",
       "      <th>2</th>\n",
       "      <td>+</td>\n",
       "      <td>-</td>\n",
       "    </tr>\n",
       "    <tr>\n",
       "      <th>3</th>\n",
       "      <td>+</td>\n",
       "      <td>+</td>\n",
       "    </tr>\n",
       "  </tbody>\n",
       "</table>\n",
       "</div>"
      ],
      "text/plain": [
       "  Factor_1 Factor_2\n",
       "0        -        -\n",
       "1        -        +\n",
       "2        +        -\n",
       "3        +        +"
      ]
     },
     "execution_count": 8,
     "metadata": {},
     "output_type": "execute_result"
    }
   ],
   "source": [
    "# this is factor levels instead of values\n",
    "test_conditions_options = experimental_design.fully_factorial(design_dictionary= design, \n",
    "                                          randomized= False, \n",
    "                                          run_values= \"keys\",\n",
    "                                          random_seed= 42)\n",
    "test_conditions_options_df = pd.DataFrame(test_conditions_options)\n",
    "test_conditions_options_df"
   ]
  },
  {
   "cell_type": "code",
   "execution_count": 9,
   "metadata": {},
   "outputs": [
    {
     "data": {
      "application/vnd.microsoft.datawrangler.viewer.v0+json": {
       "columns": [
        {
         "name": "index",
         "rawType": "int64",
         "type": "integer"
        },
        {
         "name": "Factor_1",
         "rawType": "int64",
         "type": "integer"
        },
        {
         "name": "Factor_2",
         "rawType": "int64",
         "type": "integer"
        }
       ],
       "conversionMethod": "pd.DataFrame",
       "ref": "0643e737-be17-40ff-8d90-e70c75f68441",
       "rows": [
        [
         "0",
         "1",
         "-1"
        ],
        [
         "1",
         "-1",
         "-1"
        ],
        [
         "2",
         "-1",
         "1"
        ],
        [
         "3",
         "1",
         "1"
        ]
       ],
       "shape": {
        "columns": 2,
        "rows": 4
       }
      },
      "text/html": [
       "<div>\n",
       "<style scoped>\n",
       "    .dataframe tbody tr th:only-of-type {\n",
       "        vertical-align: middle;\n",
       "    }\n",
       "\n",
       "    .dataframe tbody tr th {\n",
       "        vertical-align: top;\n",
       "    }\n",
       "\n",
       "    .dataframe thead th {\n",
       "        text-align: right;\n",
       "    }\n",
       "</style>\n",
       "<table border=\"1\" class=\"dataframe\">\n",
       "  <thead>\n",
       "    <tr style=\"text-align: right;\">\n",
       "      <th></th>\n",
       "      <th>Factor_1</th>\n",
       "      <th>Factor_2</th>\n",
       "    </tr>\n",
       "  </thead>\n",
       "  <tbody>\n",
       "    <tr>\n",
       "      <th>0</th>\n",
       "      <td>1</td>\n",
       "      <td>-1</td>\n",
       "    </tr>\n",
       "    <tr>\n",
       "      <th>1</th>\n",
       "      <td>-1</td>\n",
       "      <td>-1</td>\n",
       "    </tr>\n",
       "    <tr>\n",
       "      <th>2</th>\n",
       "      <td>-1</td>\n",
       "      <td>1</td>\n",
       "    </tr>\n",
       "    <tr>\n",
       "      <th>3</th>\n",
       "      <td>1</td>\n",
       "      <td>1</td>\n",
       "    </tr>\n",
       "  </tbody>\n",
       "</table>\n",
       "</div>"
      ],
      "text/plain": [
       "   Factor_1  Factor_2\n",
       "0         1        -1\n",
       "1        -1        -1\n",
       "2        -1         1\n",
       "3         1         1"
      ]
     },
     "execution_count": 9,
     "metadata": {},
     "output_type": "execute_result"
    }
   ],
   "source": [
    "# this is randomized with a different randoms seed\n",
    "test_conditions_options = experimental_design.fully_factorial(design_dictionary= design, \n",
    "                                          randomized= True, \n",
    "                                          run_values= \"values\",\n",
    "                                          random_seed= 41)\n",
    "test_conditions_options_df = pd.DataFrame(test_conditions_options)\n",
    "test_conditions_options_df"
   ]
  },
  {
   "cell_type": "code",
   "execution_count": 10,
   "metadata": {},
   "outputs": [
    {
     "data": {
      "application/vnd.microsoft.datawrangler.viewer.v0+json": {
       "columns": [
        {
         "name": "index",
         "rawType": "int64",
         "type": "integer"
        },
        {
         "name": "Factor_1",
         "rawType": "int64",
         "type": "integer"
        },
        {
         "name": "Factor_2",
         "rawType": "int64",
         "type": "integer"
        }
       ],
       "conversionMethod": "pd.DataFrame",
       "ref": "bf8ed91e-8c4c-462a-bd7d-7713c0ce17ea",
       "rows": [
        [
         "0",
         "1",
         "-1"
        ],
        [
         "1",
         "-1",
         "-1"
        ],
        [
         "2",
         "-1",
         "1"
        ],
        [
         "3",
         "1",
         "1"
        ]
       ],
       "shape": {
        "columns": 2,
        "rows": 4
       }
      },
      "text/html": [
       "<div>\n",
       "<style scoped>\n",
       "    .dataframe tbody tr th:only-of-type {\n",
       "        vertical-align: middle;\n",
       "    }\n",
       "\n",
       "    .dataframe tbody tr th {\n",
       "        vertical-align: top;\n",
       "    }\n",
       "\n",
       "    .dataframe thead th {\n",
       "        text-align: right;\n",
       "    }\n",
       "</style>\n",
       "<table border=\"1\" class=\"dataframe\">\n",
       "  <thead>\n",
       "    <tr style=\"text-align: right;\">\n",
       "      <th></th>\n",
       "      <th>Factor_1</th>\n",
       "      <th>Factor_2</th>\n",
       "    </tr>\n",
       "  </thead>\n",
       "  <tbody>\n",
       "    <tr>\n",
       "      <th>0</th>\n",
       "      <td>1</td>\n",
       "      <td>-1</td>\n",
       "    </tr>\n",
       "    <tr>\n",
       "      <th>1</th>\n",
       "      <td>-1</td>\n",
       "      <td>-1</td>\n",
       "    </tr>\n",
       "    <tr>\n",
       "      <th>2</th>\n",
       "      <td>-1</td>\n",
       "      <td>1</td>\n",
       "    </tr>\n",
       "    <tr>\n",
       "      <th>3</th>\n",
       "      <td>1</td>\n",
       "      <td>1</td>\n",
       "    </tr>\n",
       "  </tbody>\n",
       "</table>\n",
       "</div>"
      ],
      "text/plain": [
       "   Factor_1  Factor_2\n",
       "0         1        -1\n",
       "1        -1        -1\n",
       "2        -1         1\n",
       "3         1         1"
      ]
     },
     "execution_count": 10,
     "metadata": {},
     "output_type": "execute_result"
    }
   ],
   "source": [
    "# it will give you the same shuffled test_conditions \n",
    "test_conditions_options = experimental_design.fully_factorial(design_dictionary= design, \n",
    "                                          randomized= True, \n",
    "                                          run_values= \"values\",\n",
    "                                          random_seed= 41)\n",
    "test_conditions_options_df = pd.DataFrame(test_conditions_options)\n",
    "test_conditions_options_df"
   ]
  },
  {
   "cell_type": "code",
   "execution_count": 11,
   "metadata": {},
   "outputs": [
    {
     "data": {
      "application/vnd.microsoft.datawrangler.viewer.v0+json": {
       "columns": [
        {
         "name": "index",
         "rawType": "int64",
         "type": "integer"
        },
        {
         "name": "Factor_1",
         "rawType": "int64",
         "type": "integer"
        },
        {
         "name": "Factor_2",
         "rawType": "int64",
         "type": "integer"
        }
       ],
       "conversionMethod": "pd.DataFrame",
       "ref": "598cab90-7326-4b54-87b8-3765cbdb7bd8",
       "rows": [
        [
         "0",
         "1",
         "-1"
        ],
        [
         "1",
         "-1",
         "1"
        ],
        [
         "2",
         "1",
         "1"
        ],
        [
         "3",
         "-1",
         "-1"
        ]
       ],
       "shape": {
        "columns": 2,
        "rows": 4
       }
      },
      "text/html": [
       "<div>\n",
       "<style scoped>\n",
       "    .dataframe tbody tr th:only-of-type {\n",
       "        vertical-align: middle;\n",
       "    }\n",
       "\n",
       "    .dataframe tbody tr th {\n",
       "        vertical-align: top;\n",
       "    }\n",
       "\n",
       "    .dataframe thead th {\n",
       "        text-align: right;\n",
       "    }\n",
       "</style>\n",
       "<table border=\"1\" class=\"dataframe\">\n",
       "  <thead>\n",
       "    <tr style=\"text-align: right;\">\n",
       "      <th></th>\n",
       "      <th>Factor_1</th>\n",
       "      <th>Factor_2</th>\n",
       "    </tr>\n",
       "  </thead>\n",
       "  <tbody>\n",
       "    <tr>\n",
       "      <th>0</th>\n",
       "      <td>1</td>\n",
       "      <td>-1</td>\n",
       "    </tr>\n",
       "    <tr>\n",
       "      <th>1</th>\n",
       "      <td>-1</td>\n",
       "      <td>1</td>\n",
       "    </tr>\n",
       "    <tr>\n",
       "      <th>2</th>\n",
       "      <td>1</td>\n",
       "      <td>1</td>\n",
       "    </tr>\n",
       "    <tr>\n",
       "      <th>3</th>\n",
       "      <td>-1</td>\n",
       "      <td>-1</td>\n",
       "    </tr>\n",
       "  </tbody>\n",
       "</table>\n",
       "</div>"
      ],
      "text/plain": [
       "   Factor_1  Factor_2\n",
       "0         1        -1\n",
       "1        -1         1\n",
       "2         1         1\n",
       "3        -1        -1"
      ]
     },
     "execution_count": 11,
     "metadata": {},
     "output_type": "execute_result"
    }
   ],
   "source": [
    "# it will give you a reproducible shuffle based on the random seed\n",
    "test_conditions_options = experimental_design.fully_factorial(design_dictionary= design, \n",
    "                                          randomized= True, \n",
    "                                          run_values= \"values\",\n",
    "                                          random_seed= 42)\n",
    "test_conditions_options_df = pd.DataFrame(test_conditions_options)\n",
    "test_conditions_options_df"
   ]
  },
  {
   "cell_type": "markdown",
   "metadata": {},
   "source": [
    "## Different experimental designs"
   ]
  },
  {
   "cell_type": "markdown",
   "metadata": {},
   "source": [
    "### Fully factorial with a default"
   ]
  },
  {
   "cell_type": "code",
   "execution_count": 12,
   "metadata": {},
   "outputs": [],
   "source": [
    "n_factors = 3\n",
    "design = {f\"F{i}\":{\"-\":-1,\"+\":1} for i in range(1,n_factors+1)}\n",
    "default = {f\"F{i}\":{0:\"Default\"} for i in range(1,n_factors+1)}"
   ]
  },
  {
   "cell_type": "code",
   "execution_count": 13,
   "metadata": {},
   "outputs": [
    {
     "data": {
      "application/vnd.microsoft.datawrangler.viewer.v0+json": {
       "columns": [
        {
         "name": "index",
         "rawType": "int64",
         "type": "integer"
        },
        {
         "name": "F1",
         "rawType": "object",
         "type": "unknown"
        },
        {
         "name": "F2",
         "rawType": "object",
         "type": "unknown"
        },
        {
         "name": "F3",
         "rawType": "object",
         "type": "unknown"
        }
       ],
       "conversionMethod": "pd.DataFrame",
       "ref": "6b97c413-5183-4009-a367-4e38fd44e951",
       "rows": [
        [
         "0",
         "Default",
         "Default",
         "Default"
        ],
        [
         "1",
         "-1",
         "-1",
         "-1"
        ],
        [
         "2",
         "-1",
         "-1",
         "1"
        ],
        [
         "3",
         "Default",
         "Default",
         "Default"
        ],
        [
         "4",
         "-1",
         "1",
         "-1"
        ],
        [
         "5",
         "-1",
         "1",
         "1"
        ],
        [
         "6",
         "Default",
         "Default",
         "Default"
        ],
        [
         "7",
         "1",
         "-1",
         "-1"
        ],
        [
         "8",
         "1",
         "-1",
         "1"
        ],
        [
         "9",
         "Default",
         "Default",
         "Default"
        ],
        [
         "10",
         "1",
         "1",
         "-1"
        ],
        [
         "11",
         "1",
         "1",
         "1"
        ]
       ],
       "shape": {
        "columns": 3,
        "rows": 12
       }
      },
      "text/html": [
       "<div>\n",
       "<style scoped>\n",
       "    .dataframe tbody tr th:only-of-type {\n",
       "        vertical-align: middle;\n",
       "    }\n",
       "\n",
       "    .dataframe tbody tr th {\n",
       "        vertical-align: top;\n",
       "    }\n",
       "\n",
       "    .dataframe thead th {\n",
       "        text-align: right;\n",
       "    }\n",
       "</style>\n",
       "<table border=\"1\" class=\"dataframe\">\n",
       "  <thead>\n",
       "    <tr style=\"text-align: right;\">\n",
       "      <th></th>\n",
       "      <th>F1</th>\n",
       "      <th>F2</th>\n",
       "      <th>F3</th>\n",
       "    </tr>\n",
       "  </thead>\n",
       "  <tbody>\n",
       "    <tr>\n",
       "      <th>0</th>\n",
       "      <td>Default</td>\n",
       "      <td>Default</td>\n",
       "      <td>Default</td>\n",
       "    </tr>\n",
       "    <tr>\n",
       "      <th>1</th>\n",
       "      <td>-1</td>\n",
       "      <td>-1</td>\n",
       "      <td>-1</td>\n",
       "    </tr>\n",
       "    <tr>\n",
       "      <th>2</th>\n",
       "      <td>-1</td>\n",
       "      <td>-1</td>\n",
       "      <td>1</td>\n",
       "    </tr>\n",
       "    <tr>\n",
       "      <th>3</th>\n",
       "      <td>Default</td>\n",
       "      <td>Default</td>\n",
       "      <td>Default</td>\n",
       "    </tr>\n",
       "    <tr>\n",
       "      <th>4</th>\n",
       "      <td>-1</td>\n",
       "      <td>1</td>\n",
       "      <td>-1</td>\n",
       "    </tr>\n",
       "    <tr>\n",
       "      <th>5</th>\n",
       "      <td>-1</td>\n",
       "      <td>1</td>\n",
       "      <td>1</td>\n",
       "    </tr>\n",
       "    <tr>\n",
       "      <th>6</th>\n",
       "      <td>Default</td>\n",
       "      <td>Default</td>\n",
       "      <td>Default</td>\n",
       "    </tr>\n",
       "    <tr>\n",
       "      <th>7</th>\n",
       "      <td>1</td>\n",
       "      <td>-1</td>\n",
       "      <td>-1</td>\n",
       "    </tr>\n",
       "    <tr>\n",
       "      <th>8</th>\n",
       "      <td>1</td>\n",
       "      <td>-1</td>\n",
       "      <td>1</td>\n",
       "    </tr>\n",
       "    <tr>\n",
       "      <th>9</th>\n",
       "      <td>Default</td>\n",
       "      <td>Default</td>\n",
       "      <td>Default</td>\n",
       "    </tr>\n",
       "    <tr>\n",
       "      <th>10</th>\n",
       "      <td>1</td>\n",
       "      <td>1</td>\n",
       "      <td>-1</td>\n",
       "    </tr>\n",
       "    <tr>\n",
       "      <th>11</th>\n",
       "      <td>1</td>\n",
       "      <td>1</td>\n",
       "      <td>1</td>\n",
       "    </tr>\n",
       "  </tbody>\n",
       "</table>\n",
       "</div>"
      ],
      "text/plain": [
       "         F1       F2       F3\n",
       "0   Default  Default  Default\n",
       "1        -1       -1       -1\n",
       "2        -1       -1        1\n",
       "3   Default  Default  Default\n",
       "4        -1        1       -1\n",
       "5        -1        1        1\n",
       "6   Default  Default  Default\n",
       "7         1       -1       -1\n",
       "8         1       -1        1\n",
       "9   Default  Default  Default\n",
       "10        1        1       -1\n",
       "11        1        1        1"
      ]
     },
     "execution_count": 13,
     "metadata": {},
     "output_type": "execute_result"
    }
   ],
   "source": [
    "default_design = experimental_design.fully_factorial_default(design_dictionary=design,default_state=default,\n",
    "                                                              randomized= False,run_values=\"values\")\n",
    "dd_df = pd.DataFrame(default_design)\n",
    "dd_df"
   ]
  },
  {
   "cell_type": "markdown",
   "metadata": {},
   "source": [
    "### Split plot"
   ]
  },
  {
   "cell_type": "code",
   "execution_count": 14,
   "metadata": {},
   "outputs": [],
   "source": [
    "# A general design of 2x2 and 3x2\n",
    "n_wp_factors = 2\n",
    "wp = {f\"WPF{i}\":{\"-\":-1,\"+\":1} for i in range(1,n_wp_factors+1)}\n",
    "n_sp_factors = 3\n",
    "sp = {f\"SPF{i}\":{\"-\":-1,\"+\":1} for i in range(1,n_sp_factors+1)}"
   ]
  },
  {
   "cell_type": "code",
   "execution_count": 15,
   "metadata": {},
   "outputs": [
    {
     "data": {
      "application/vnd.microsoft.datawrangler.viewer.v0+json": {
       "columns": [
        {
         "name": "index",
         "rawType": "int64",
         "type": "integer"
        },
        {
         "name": "WPF1",
         "rawType": "object",
         "type": "string"
        },
        {
         "name": "WPF2",
         "rawType": "object",
         "type": "string"
        },
        {
         "name": "SPF1",
         "rawType": "object",
         "type": "string"
        },
        {
         "name": "SPF2",
         "rawType": "object",
         "type": "string"
        },
        {
         "name": "SPF3",
         "rawType": "object",
         "type": "string"
        }
       ],
       "conversionMethod": "pd.DataFrame",
       "ref": "e377f6b5-78c9-47e9-92be-17ee48581b75",
       "rows": [
        [
         "0",
         "-",
         "-",
         "-",
         "-",
         "-"
        ],
        [
         "1",
         "-",
         "-",
         "-",
         "-",
         "+"
        ],
        [
         "2",
         "-",
         "-",
         "-",
         "+",
         "-"
        ],
        [
         "3",
         "-",
         "-",
         "-",
         "+",
         "+"
        ],
        [
         "4",
         "-",
         "-",
         "+",
         "-",
         "-"
        ],
        [
         "5",
         "-",
         "-",
         "+",
         "-",
         "+"
        ],
        [
         "6",
         "-",
         "-",
         "+",
         "+",
         "-"
        ],
        [
         "7",
         "-",
         "-",
         "+",
         "+",
         "+"
        ],
        [
         "8",
         "-",
         "+",
         "-",
         "-",
         "-"
        ],
        [
         "9",
         "-",
         "+",
         "-",
         "-",
         "+"
        ],
        [
         "10",
         "-",
         "+",
         "-",
         "+",
         "-"
        ],
        [
         "11",
         "-",
         "+",
         "-",
         "+",
         "+"
        ],
        [
         "12",
         "-",
         "+",
         "+",
         "-",
         "-"
        ],
        [
         "13",
         "-",
         "+",
         "+",
         "-",
         "+"
        ],
        [
         "14",
         "-",
         "+",
         "+",
         "+",
         "-"
        ],
        [
         "15",
         "-",
         "+",
         "+",
         "+",
         "+"
        ],
        [
         "16",
         "+",
         "-",
         "-",
         "-",
         "-"
        ],
        [
         "17",
         "+",
         "-",
         "-",
         "-",
         "+"
        ],
        [
         "18",
         "+",
         "-",
         "-",
         "+",
         "-"
        ],
        [
         "19",
         "+",
         "-",
         "-",
         "+",
         "+"
        ],
        [
         "20",
         "+",
         "-",
         "+",
         "-",
         "-"
        ],
        [
         "21",
         "+",
         "-",
         "+",
         "-",
         "+"
        ],
        [
         "22",
         "+",
         "-",
         "+",
         "+",
         "-"
        ],
        [
         "23",
         "+",
         "-",
         "+",
         "+",
         "+"
        ],
        [
         "24",
         "+",
         "+",
         "-",
         "-",
         "-"
        ],
        [
         "25",
         "+",
         "+",
         "-",
         "-",
         "+"
        ],
        [
         "26",
         "+",
         "+",
         "-",
         "+",
         "-"
        ],
        [
         "27",
         "+",
         "+",
         "-",
         "+",
         "+"
        ],
        [
         "28",
         "+",
         "+",
         "+",
         "-",
         "-"
        ],
        [
         "29",
         "+",
         "+",
         "+",
         "-",
         "+"
        ],
        [
         "30",
         "+",
         "+",
         "+",
         "+",
         "-"
        ],
        [
         "31",
         "+",
         "+",
         "+",
         "+",
         "+"
        ]
       ],
       "shape": {
        "columns": 5,
        "rows": 32
       }
      },
      "text/html": [
       "<div>\n",
       "<style scoped>\n",
       "    .dataframe tbody tr th:only-of-type {\n",
       "        vertical-align: middle;\n",
       "    }\n",
       "\n",
       "    .dataframe tbody tr th {\n",
       "        vertical-align: top;\n",
       "    }\n",
       "\n",
       "    .dataframe thead th {\n",
       "        text-align: right;\n",
       "    }\n",
       "</style>\n",
       "<table border=\"1\" class=\"dataframe\">\n",
       "  <thead>\n",
       "    <tr style=\"text-align: right;\">\n",
       "      <th></th>\n",
       "      <th>WPF1</th>\n",
       "      <th>WPF2</th>\n",
       "      <th>SPF1</th>\n",
       "      <th>SPF2</th>\n",
       "      <th>SPF3</th>\n",
       "    </tr>\n",
       "  </thead>\n",
       "  <tbody>\n",
       "    <tr>\n",
       "      <th>0</th>\n",
       "      <td>-</td>\n",
       "      <td>-</td>\n",
       "      <td>-</td>\n",
       "      <td>-</td>\n",
       "      <td>-</td>\n",
       "    </tr>\n",
       "    <tr>\n",
       "      <th>1</th>\n",
       "      <td>-</td>\n",
       "      <td>-</td>\n",
       "      <td>-</td>\n",
       "      <td>-</td>\n",
       "      <td>+</td>\n",
       "    </tr>\n",
       "    <tr>\n",
       "      <th>2</th>\n",
       "      <td>-</td>\n",
       "      <td>-</td>\n",
       "      <td>-</td>\n",
       "      <td>+</td>\n",
       "      <td>-</td>\n",
       "    </tr>\n",
       "    <tr>\n",
       "      <th>3</th>\n",
       "      <td>-</td>\n",
       "      <td>-</td>\n",
       "      <td>-</td>\n",
       "      <td>+</td>\n",
       "      <td>+</td>\n",
       "    </tr>\n",
       "    <tr>\n",
       "      <th>4</th>\n",
       "      <td>-</td>\n",
       "      <td>-</td>\n",
       "      <td>+</td>\n",
       "      <td>-</td>\n",
       "      <td>-</td>\n",
       "    </tr>\n",
       "    <tr>\n",
       "      <th>5</th>\n",
       "      <td>-</td>\n",
       "      <td>-</td>\n",
       "      <td>+</td>\n",
       "      <td>-</td>\n",
       "      <td>+</td>\n",
       "    </tr>\n",
       "    <tr>\n",
       "      <th>6</th>\n",
       "      <td>-</td>\n",
       "      <td>-</td>\n",
       "      <td>+</td>\n",
       "      <td>+</td>\n",
       "      <td>-</td>\n",
       "    </tr>\n",
       "    <tr>\n",
       "      <th>7</th>\n",
       "      <td>-</td>\n",
       "      <td>-</td>\n",
       "      <td>+</td>\n",
       "      <td>+</td>\n",
       "      <td>+</td>\n",
       "    </tr>\n",
       "    <tr>\n",
       "      <th>8</th>\n",
       "      <td>-</td>\n",
       "      <td>+</td>\n",
       "      <td>-</td>\n",
       "      <td>-</td>\n",
       "      <td>-</td>\n",
       "    </tr>\n",
       "    <tr>\n",
       "      <th>9</th>\n",
       "      <td>-</td>\n",
       "      <td>+</td>\n",
       "      <td>-</td>\n",
       "      <td>-</td>\n",
       "      <td>+</td>\n",
       "    </tr>\n",
       "    <tr>\n",
       "      <th>10</th>\n",
       "      <td>-</td>\n",
       "      <td>+</td>\n",
       "      <td>-</td>\n",
       "      <td>+</td>\n",
       "      <td>-</td>\n",
       "    </tr>\n",
       "    <tr>\n",
       "      <th>11</th>\n",
       "      <td>-</td>\n",
       "      <td>+</td>\n",
       "      <td>-</td>\n",
       "      <td>+</td>\n",
       "      <td>+</td>\n",
       "    </tr>\n",
       "    <tr>\n",
       "      <th>12</th>\n",
       "      <td>-</td>\n",
       "      <td>+</td>\n",
       "      <td>+</td>\n",
       "      <td>-</td>\n",
       "      <td>-</td>\n",
       "    </tr>\n",
       "    <tr>\n",
       "      <th>13</th>\n",
       "      <td>-</td>\n",
       "      <td>+</td>\n",
       "      <td>+</td>\n",
       "      <td>-</td>\n",
       "      <td>+</td>\n",
       "    </tr>\n",
       "    <tr>\n",
       "      <th>14</th>\n",
       "      <td>-</td>\n",
       "      <td>+</td>\n",
       "      <td>+</td>\n",
       "      <td>+</td>\n",
       "      <td>-</td>\n",
       "    </tr>\n",
       "    <tr>\n",
       "      <th>15</th>\n",
       "      <td>-</td>\n",
       "      <td>+</td>\n",
       "      <td>+</td>\n",
       "      <td>+</td>\n",
       "      <td>+</td>\n",
       "    </tr>\n",
       "    <tr>\n",
       "      <th>16</th>\n",
       "      <td>+</td>\n",
       "      <td>-</td>\n",
       "      <td>-</td>\n",
       "      <td>-</td>\n",
       "      <td>-</td>\n",
       "    </tr>\n",
       "    <tr>\n",
       "      <th>17</th>\n",
       "      <td>+</td>\n",
       "      <td>-</td>\n",
       "      <td>-</td>\n",
       "      <td>-</td>\n",
       "      <td>+</td>\n",
       "    </tr>\n",
       "    <tr>\n",
       "      <th>18</th>\n",
       "      <td>+</td>\n",
       "      <td>-</td>\n",
       "      <td>-</td>\n",
       "      <td>+</td>\n",
       "      <td>-</td>\n",
       "    </tr>\n",
       "    <tr>\n",
       "      <th>19</th>\n",
       "      <td>+</td>\n",
       "      <td>-</td>\n",
       "      <td>-</td>\n",
       "      <td>+</td>\n",
       "      <td>+</td>\n",
       "    </tr>\n",
       "    <tr>\n",
       "      <th>20</th>\n",
       "      <td>+</td>\n",
       "      <td>-</td>\n",
       "      <td>+</td>\n",
       "      <td>-</td>\n",
       "      <td>-</td>\n",
       "    </tr>\n",
       "    <tr>\n",
       "      <th>21</th>\n",
       "      <td>+</td>\n",
       "      <td>-</td>\n",
       "      <td>+</td>\n",
       "      <td>-</td>\n",
       "      <td>+</td>\n",
       "    </tr>\n",
       "    <tr>\n",
       "      <th>22</th>\n",
       "      <td>+</td>\n",
       "      <td>-</td>\n",
       "      <td>+</td>\n",
       "      <td>+</td>\n",
       "      <td>-</td>\n",
       "    </tr>\n",
       "    <tr>\n",
       "      <th>23</th>\n",
       "      <td>+</td>\n",
       "      <td>-</td>\n",
       "      <td>+</td>\n",
       "      <td>+</td>\n",
       "      <td>+</td>\n",
       "    </tr>\n",
       "    <tr>\n",
       "      <th>24</th>\n",
       "      <td>+</td>\n",
       "      <td>+</td>\n",
       "      <td>-</td>\n",
       "      <td>-</td>\n",
       "      <td>-</td>\n",
       "    </tr>\n",
       "    <tr>\n",
       "      <th>25</th>\n",
       "      <td>+</td>\n",
       "      <td>+</td>\n",
       "      <td>-</td>\n",
       "      <td>-</td>\n",
       "      <td>+</td>\n",
       "    </tr>\n",
       "    <tr>\n",
       "      <th>26</th>\n",
       "      <td>+</td>\n",
       "      <td>+</td>\n",
       "      <td>-</td>\n",
       "      <td>+</td>\n",
       "      <td>-</td>\n",
       "    </tr>\n",
       "    <tr>\n",
       "      <th>27</th>\n",
       "      <td>+</td>\n",
       "      <td>+</td>\n",
       "      <td>-</td>\n",
       "      <td>+</td>\n",
       "      <td>+</td>\n",
       "    </tr>\n",
       "    <tr>\n",
       "      <th>28</th>\n",
       "      <td>+</td>\n",
       "      <td>+</td>\n",
       "      <td>+</td>\n",
       "      <td>-</td>\n",
       "      <td>-</td>\n",
       "    </tr>\n",
       "    <tr>\n",
       "      <th>29</th>\n",
       "      <td>+</td>\n",
       "      <td>+</td>\n",
       "      <td>+</td>\n",
       "      <td>-</td>\n",
       "      <td>+</td>\n",
       "    </tr>\n",
       "    <tr>\n",
       "      <th>30</th>\n",
       "      <td>+</td>\n",
       "      <td>+</td>\n",
       "      <td>+</td>\n",
       "      <td>+</td>\n",
       "      <td>-</td>\n",
       "    </tr>\n",
       "    <tr>\n",
       "      <th>31</th>\n",
       "      <td>+</td>\n",
       "      <td>+</td>\n",
       "      <td>+</td>\n",
       "      <td>+</td>\n",
       "      <td>+</td>\n",
       "    </tr>\n",
       "  </tbody>\n",
       "</table>\n",
       "</div>"
      ],
      "text/plain": [
       "   WPF1 WPF2 SPF1 SPF2 SPF3\n",
       "0     -    -    -    -    -\n",
       "1     -    -    -    -    +\n",
       "2     -    -    -    +    -\n",
       "3     -    -    -    +    +\n",
       "4     -    -    +    -    -\n",
       "5     -    -    +    -    +\n",
       "6     -    -    +    +    -\n",
       "7     -    -    +    +    +\n",
       "8     -    +    -    -    -\n",
       "9     -    +    -    -    +\n",
       "10    -    +    -    +    -\n",
       "11    -    +    -    +    +\n",
       "12    -    +    +    -    -\n",
       "13    -    +    +    -    +\n",
       "14    -    +    +    +    -\n",
       "15    -    +    +    +    +\n",
       "16    +    -    -    -    -\n",
       "17    +    -    -    -    +\n",
       "18    +    -    -    +    -\n",
       "19    +    -    -    +    +\n",
       "20    +    -    +    -    -\n",
       "21    +    -    +    -    +\n",
       "22    +    -    +    +    -\n",
       "23    +    -    +    +    +\n",
       "24    +    +    -    -    -\n",
       "25    +    +    -    -    +\n",
       "26    +    +    -    +    -\n",
       "27    +    +    -    +    +\n",
       "28    +    +    +    -    -\n",
       "29    +    +    +    -    +\n",
       "30    +    +    +    +    -\n",
       "31    +    +    +    +    +"
      ]
     },
     "execution_count": 15,
     "metadata": {},
     "output_type": "execute_result"
    }
   ],
   "source": [
    "split_plot_design = experimental_design.fully_factorial_split_plot(wp,sp,randomized= False,run_values=\"keys\")\n",
    "sp_df = pd.DataFrame(split_plot_design)\n",
    "sp_df"
   ]
  },
  {
   "cell_type": "markdown",
   "metadata": {},
   "source": [
    "### Split plot with a default\n",
    "It expects the default to be whole plot only with the same split plot as the main design"
   ]
  },
  {
   "cell_type": "code",
   "execution_count": 16,
   "metadata": {},
   "outputs": [],
   "source": [
    "# A general design of 2x2 and 3x2\n",
    "n_wp_factors = 2\n",
    "wp = {f\"WPF{i}\":{\"-\":-1,\"+\":1} for i in range(1,n_wp_factors+1)}\n",
    "n_sp_factors = 3\n",
    "sp = {f\"SPF{i}\":{\"-\":-1,\"+\":1} for i in range(1,n_sp_factors+1)}\n",
    "default_state = {f\"WPF{i}\":{0:\"default\"} for i in range(1,n_wp_factors+1)}"
   ]
  },
  {
   "cell_type": "code",
   "execution_count": 17,
   "metadata": {},
   "outputs": [
    {
     "data": {
      "application/vnd.microsoft.datawrangler.viewer.v0+json": {
       "columns": [
        {
         "name": "index",
         "rawType": "int64",
         "type": "integer"
        },
        {
         "name": "WPF1",
         "rawType": "object",
         "type": "unknown"
        },
        {
         "name": "WPF2",
         "rawType": "object",
         "type": "unknown"
        },
        {
         "name": "SPF1",
         "rawType": "object",
         "type": "string"
        },
        {
         "name": "SPF2",
         "rawType": "object",
         "type": "string"
        },
        {
         "name": "SPF3",
         "rawType": "object",
         "type": "string"
        }
       ],
       "conversionMethod": "pd.DataFrame",
       "ref": "c761ba76-b807-41a0-9e0a-23784e98cd99",
       "rows": [
        [
         "0",
         "0",
         "0",
         "-",
         "-",
         "-"
        ],
        [
         "1",
         "0",
         "0",
         "-",
         "-",
         "+"
        ],
        [
         "2",
         "0",
         "0",
         "-",
         "+",
         "-"
        ],
        [
         "3",
         "0",
         "0",
         "-",
         "+",
         "+"
        ],
        [
         "4",
         "0",
         "0",
         "+",
         "-",
         "-"
        ],
        [
         "5",
         "0",
         "0",
         "+",
         "-",
         "+"
        ],
        [
         "6",
         "0",
         "0",
         "+",
         "+",
         "-"
        ],
        [
         "7",
         "0",
         "0",
         "+",
         "+",
         "+"
        ],
        [
         "8",
         "-",
         "-",
         "-",
         "-",
         "-"
        ],
        [
         "9",
         "-",
         "-",
         "-",
         "-",
         "+"
        ],
        [
         "10",
         "-",
         "-",
         "-",
         "+",
         "-"
        ],
        [
         "11",
         "-",
         "-",
         "-",
         "+",
         "+"
        ],
        [
         "12",
         "-",
         "-",
         "+",
         "-",
         "-"
        ],
        [
         "13",
         "-",
         "-",
         "+",
         "-",
         "+"
        ],
        [
         "14",
         "-",
         "-",
         "+",
         "+",
         "-"
        ],
        [
         "15",
         "-",
         "-",
         "+",
         "+",
         "+"
        ],
        [
         "16",
         "-",
         "+",
         "-",
         "-",
         "-"
        ],
        [
         "17",
         "-",
         "+",
         "-",
         "-",
         "+"
        ],
        [
         "18",
         "-",
         "+",
         "-",
         "+",
         "-"
        ],
        [
         "19",
         "-",
         "+",
         "-",
         "+",
         "+"
        ],
        [
         "20",
         "-",
         "+",
         "+",
         "-",
         "-"
        ],
        [
         "21",
         "-",
         "+",
         "+",
         "-",
         "+"
        ],
        [
         "22",
         "-",
         "+",
         "+",
         "+",
         "-"
        ],
        [
         "23",
         "-",
         "+",
         "+",
         "+",
         "+"
        ],
        [
         "24",
         "0",
         "0",
         "-",
         "-",
         "-"
        ],
        [
         "25",
         "0",
         "0",
         "-",
         "-",
         "+"
        ],
        [
         "26",
         "0",
         "0",
         "-",
         "+",
         "-"
        ],
        [
         "27",
         "0",
         "0",
         "-",
         "+",
         "+"
        ],
        [
         "28",
         "0",
         "0",
         "+",
         "-",
         "-"
        ],
        [
         "29",
         "0",
         "0",
         "+",
         "-",
         "+"
        ],
        [
         "30",
         "0",
         "0",
         "+",
         "+",
         "-"
        ],
        [
         "31",
         "0",
         "0",
         "+",
         "+",
         "+"
        ],
        [
         "32",
         "+",
         "-",
         "-",
         "-",
         "-"
        ],
        [
         "33",
         "+",
         "-",
         "-",
         "-",
         "+"
        ],
        [
         "34",
         "+",
         "-",
         "-",
         "+",
         "-"
        ],
        [
         "35",
         "+",
         "-",
         "-",
         "+",
         "+"
        ],
        [
         "36",
         "+",
         "-",
         "+",
         "-",
         "-"
        ],
        [
         "37",
         "+",
         "-",
         "+",
         "-",
         "+"
        ],
        [
         "38",
         "+",
         "-",
         "+",
         "+",
         "-"
        ],
        [
         "39",
         "+",
         "-",
         "+",
         "+",
         "+"
        ],
        [
         "40",
         "+",
         "+",
         "-",
         "-",
         "-"
        ],
        [
         "41",
         "+",
         "+",
         "-",
         "-",
         "+"
        ],
        [
         "42",
         "+",
         "+",
         "-",
         "+",
         "-"
        ],
        [
         "43",
         "+",
         "+",
         "-",
         "+",
         "+"
        ],
        [
         "44",
         "+",
         "+",
         "+",
         "-",
         "-"
        ],
        [
         "45",
         "+",
         "+",
         "+",
         "-",
         "+"
        ],
        [
         "46",
         "+",
         "+",
         "+",
         "+",
         "-"
        ],
        [
         "47",
         "+",
         "+",
         "+",
         "+",
         "+"
        ]
       ],
       "shape": {
        "columns": 5,
        "rows": 48
       }
      },
      "text/html": [
       "<div>\n",
       "<style scoped>\n",
       "    .dataframe tbody tr th:only-of-type {\n",
       "        vertical-align: middle;\n",
       "    }\n",
       "\n",
       "    .dataframe tbody tr th {\n",
       "        vertical-align: top;\n",
       "    }\n",
       "\n",
       "    .dataframe thead th {\n",
       "        text-align: right;\n",
       "    }\n",
       "</style>\n",
       "<table border=\"1\" class=\"dataframe\">\n",
       "  <thead>\n",
       "    <tr style=\"text-align: right;\">\n",
       "      <th></th>\n",
       "      <th>WPF1</th>\n",
       "      <th>WPF2</th>\n",
       "      <th>SPF1</th>\n",
       "      <th>SPF2</th>\n",
       "      <th>SPF3</th>\n",
       "    </tr>\n",
       "  </thead>\n",
       "  <tbody>\n",
       "    <tr>\n",
       "      <th>0</th>\n",
       "      <td>0</td>\n",
       "      <td>0</td>\n",
       "      <td>-</td>\n",
       "      <td>-</td>\n",
       "      <td>-</td>\n",
       "    </tr>\n",
       "    <tr>\n",
       "      <th>1</th>\n",
       "      <td>0</td>\n",
       "      <td>0</td>\n",
       "      <td>-</td>\n",
       "      <td>-</td>\n",
       "      <td>+</td>\n",
       "    </tr>\n",
       "    <tr>\n",
       "      <th>2</th>\n",
       "      <td>0</td>\n",
       "      <td>0</td>\n",
       "      <td>-</td>\n",
       "      <td>+</td>\n",
       "      <td>-</td>\n",
       "    </tr>\n",
       "    <tr>\n",
       "      <th>3</th>\n",
       "      <td>0</td>\n",
       "      <td>0</td>\n",
       "      <td>-</td>\n",
       "      <td>+</td>\n",
       "      <td>+</td>\n",
       "    </tr>\n",
       "    <tr>\n",
       "      <th>4</th>\n",
       "      <td>0</td>\n",
       "      <td>0</td>\n",
       "      <td>+</td>\n",
       "      <td>-</td>\n",
       "      <td>-</td>\n",
       "    </tr>\n",
       "    <tr>\n",
       "      <th>5</th>\n",
       "      <td>0</td>\n",
       "      <td>0</td>\n",
       "      <td>+</td>\n",
       "      <td>-</td>\n",
       "      <td>+</td>\n",
       "    </tr>\n",
       "    <tr>\n",
       "      <th>6</th>\n",
       "      <td>0</td>\n",
       "      <td>0</td>\n",
       "      <td>+</td>\n",
       "      <td>+</td>\n",
       "      <td>-</td>\n",
       "    </tr>\n",
       "    <tr>\n",
       "      <th>7</th>\n",
       "      <td>0</td>\n",
       "      <td>0</td>\n",
       "      <td>+</td>\n",
       "      <td>+</td>\n",
       "      <td>+</td>\n",
       "    </tr>\n",
       "    <tr>\n",
       "      <th>8</th>\n",
       "      <td>-</td>\n",
       "      <td>-</td>\n",
       "      <td>-</td>\n",
       "      <td>-</td>\n",
       "      <td>-</td>\n",
       "    </tr>\n",
       "    <tr>\n",
       "      <th>9</th>\n",
       "      <td>-</td>\n",
       "      <td>-</td>\n",
       "      <td>-</td>\n",
       "      <td>-</td>\n",
       "      <td>+</td>\n",
       "    </tr>\n",
       "    <tr>\n",
       "      <th>10</th>\n",
       "      <td>-</td>\n",
       "      <td>-</td>\n",
       "      <td>-</td>\n",
       "      <td>+</td>\n",
       "      <td>-</td>\n",
       "    </tr>\n",
       "    <tr>\n",
       "      <th>11</th>\n",
       "      <td>-</td>\n",
       "      <td>-</td>\n",
       "      <td>-</td>\n",
       "      <td>+</td>\n",
       "      <td>+</td>\n",
       "    </tr>\n",
       "    <tr>\n",
       "      <th>12</th>\n",
       "      <td>-</td>\n",
       "      <td>-</td>\n",
       "      <td>+</td>\n",
       "      <td>-</td>\n",
       "      <td>-</td>\n",
       "    </tr>\n",
       "    <tr>\n",
       "      <th>13</th>\n",
       "      <td>-</td>\n",
       "      <td>-</td>\n",
       "      <td>+</td>\n",
       "      <td>-</td>\n",
       "      <td>+</td>\n",
       "    </tr>\n",
       "    <tr>\n",
       "      <th>14</th>\n",
       "      <td>-</td>\n",
       "      <td>-</td>\n",
       "      <td>+</td>\n",
       "      <td>+</td>\n",
       "      <td>-</td>\n",
       "    </tr>\n",
       "    <tr>\n",
       "      <th>15</th>\n",
       "      <td>-</td>\n",
       "      <td>-</td>\n",
       "      <td>+</td>\n",
       "      <td>+</td>\n",
       "      <td>+</td>\n",
       "    </tr>\n",
       "    <tr>\n",
       "      <th>16</th>\n",
       "      <td>-</td>\n",
       "      <td>+</td>\n",
       "      <td>-</td>\n",
       "      <td>-</td>\n",
       "      <td>-</td>\n",
       "    </tr>\n",
       "    <tr>\n",
       "      <th>17</th>\n",
       "      <td>-</td>\n",
       "      <td>+</td>\n",
       "      <td>-</td>\n",
       "      <td>-</td>\n",
       "      <td>+</td>\n",
       "    </tr>\n",
       "    <tr>\n",
       "      <th>18</th>\n",
       "      <td>-</td>\n",
       "      <td>+</td>\n",
       "      <td>-</td>\n",
       "      <td>+</td>\n",
       "      <td>-</td>\n",
       "    </tr>\n",
       "    <tr>\n",
       "      <th>19</th>\n",
       "      <td>-</td>\n",
       "      <td>+</td>\n",
       "      <td>-</td>\n",
       "      <td>+</td>\n",
       "      <td>+</td>\n",
       "    </tr>\n",
       "    <tr>\n",
       "      <th>20</th>\n",
       "      <td>-</td>\n",
       "      <td>+</td>\n",
       "      <td>+</td>\n",
       "      <td>-</td>\n",
       "      <td>-</td>\n",
       "    </tr>\n",
       "    <tr>\n",
       "      <th>21</th>\n",
       "      <td>-</td>\n",
       "      <td>+</td>\n",
       "      <td>+</td>\n",
       "      <td>-</td>\n",
       "      <td>+</td>\n",
       "    </tr>\n",
       "    <tr>\n",
       "      <th>22</th>\n",
       "      <td>-</td>\n",
       "      <td>+</td>\n",
       "      <td>+</td>\n",
       "      <td>+</td>\n",
       "      <td>-</td>\n",
       "    </tr>\n",
       "    <tr>\n",
       "      <th>23</th>\n",
       "      <td>-</td>\n",
       "      <td>+</td>\n",
       "      <td>+</td>\n",
       "      <td>+</td>\n",
       "      <td>+</td>\n",
       "    </tr>\n",
       "    <tr>\n",
       "      <th>24</th>\n",
       "      <td>0</td>\n",
       "      <td>0</td>\n",
       "      <td>-</td>\n",
       "      <td>-</td>\n",
       "      <td>-</td>\n",
       "    </tr>\n",
       "    <tr>\n",
       "      <th>25</th>\n",
       "      <td>0</td>\n",
       "      <td>0</td>\n",
       "      <td>-</td>\n",
       "      <td>-</td>\n",
       "      <td>+</td>\n",
       "    </tr>\n",
       "    <tr>\n",
       "      <th>26</th>\n",
       "      <td>0</td>\n",
       "      <td>0</td>\n",
       "      <td>-</td>\n",
       "      <td>+</td>\n",
       "      <td>-</td>\n",
       "    </tr>\n",
       "    <tr>\n",
       "      <th>27</th>\n",
       "      <td>0</td>\n",
       "      <td>0</td>\n",
       "      <td>-</td>\n",
       "      <td>+</td>\n",
       "      <td>+</td>\n",
       "    </tr>\n",
       "    <tr>\n",
       "      <th>28</th>\n",
       "      <td>0</td>\n",
       "      <td>0</td>\n",
       "      <td>+</td>\n",
       "      <td>-</td>\n",
       "      <td>-</td>\n",
       "    </tr>\n",
       "    <tr>\n",
       "      <th>29</th>\n",
       "      <td>0</td>\n",
       "      <td>0</td>\n",
       "      <td>+</td>\n",
       "      <td>-</td>\n",
       "      <td>+</td>\n",
       "    </tr>\n",
       "    <tr>\n",
       "      <th>30</th>\n",
       "      <td>0</td>\n",
       "      <td>0</td>\n",
       "      <td>+</td>\n",
       "      <td>+</td>\n",
       "      <td>-</td>\n",
       "    </tr>\n",
       "    <tr>\n",
       "      <th>31</th>\n",
       "      <td>0</td>\n",
       "      <td>0</td>\n",
       "      <td>+</td>\n",
       "      <td>+</td>\n",
       "      <td>+</td>\n",
       "    </tr>\n",
       "    <tr>\n",
       "      <th>32</th>\n",
       "      <td>+</td>\n",
       "      <td>-</td>\n",
       "      <td>-</td>\n",
       "      <td>-</td>\n",
       "      <td>-</td>\n",
       "    </tr>\n",
       "    <tr>\n",
       "      <th>33</th>\n",
       "      <td>+</td>\n",
       "      <td>-</td>\n",
       "      <td>-</td>\n",
       "      <td>-</td>\n",
       "      <td>+</td>\n",
       "    </tr>\n",
       "    <tr>\n",
       "      <th>34</th>\n",
       "      <td>+</td>\n",
       "      <td>-</td>\n",
       "      <td>-</td>\n",
       "      <td>+</td>\n",
       "      <td>-</td>\n",
       "    </tr>\n",
       "    <tr>\n",
       "      <th>35</th>\n",
       "      <td>+</td>\n",
       "      <td>-</td>\n",
       "      <td>-</td>\n",
       "      <td>+</td>\n",
       "      <td>+</td>\n",
       "    </tr>\n",
       "    <tr>\n",
       "      <th>36</th>\n",
       "      <td>+</td>\n",
       "      <td>-</td>\n",
       "      <td>+</td>\n",
       "      <td>-</td>\n",
       "      <td>-</td>\n",
       "    </tr>\n",
       "    <tr>\n",
       "      <th>37</th>\n",
       "      <td>+</td>\n",
       "      <td>-</td>\n",
       "      <td>+</td>\n",
       "      <td>-</td>\n",
       "      <td>+</td>\n",
       "    </tr>\n",
       "    <tr>\n",
       "      <th>38</th>\n",
       "      <td>+</td>\n",
       "      <td>-</td>\n",
       "      <td>+</td>\n",
       "      <td>+</td>\n",
       "      <td>-</td>\n",
       "    </tr>\n",
       "    <tr>\n",
       "      <th>39</th>\n",
       "      <td>+</td>\n",
       "      <td>-</td>\n",
       "      <td>+</td>\n",
       "      <td>+</td>\n",
       "      <td>+</td>\n",
       "    </tr>\n",
       "    <tr>\n",
       "      <th>40</th>\n",
       "      <td>+</td>\n",
       "      <td>+</td>\n",
       "      <td>-</td>\n",
       "      <td>-</td>\n",
       "      <td>-</td>\n",
       "    </tr>\n",
       "    <tr>\n",
       "      <th>41</th>\n",
       "      <td>+</td>\n",
       "      <td>+</td>\n",
       "      <td>-</td>\n",
       "      <td>-</td>\n",
       "      <td>+</td>\n",
       "    </tr>\n",
       "    <tr>\n",
       "      <th>42</th>\n",
       "      <td>+</td>\n",
       "      <td>+</td>\n",
       "      <td>-</td>\n",
       "      <td>+</td>\n",
       "      <td>-</td>\n",
       "    </tr>\n",
       "    <tr>\n",
       "      <th>43</th>\n",
       "      <td>+</td>\n",
       "      <td>+</td>\n",
       "      <td>-</td>\n",
       "      <td>+</td>\n",
       "      <td>+</td>\n",
       "    </tr>\n",
       "    <tr>\n",
       "      <th>44</th>\n",
       "      <td>+</td>\n",
       "      <td>+</td>\n",
       "      <td>+</td>\n",
       "      <td>-</td>\n",
       "      <td>-</td>\n",
       "    </tr>\n",
       "    <tr>\n",
       "      <th>45</th>\n",
       "      <td>+</td>\n",
       "      <td>+</td>\n",
       "      <td>+</td>\n",
       "      <td>-</td>\n",
       "      <td>+</td>\n",
       "    </tr>\n",
       "    <tr>\n",
       "      <th>46</th>\n",
       "      <td>+</td>\n",
       "      <td>+</td>\n",
       "      <td>+</td>\n",
       "      <td>+</td>\n",
       "      <td>-</td>\n",
       "    </tr>\n",
       "    <tr>\n",
       "      <th>47</th>\n",
       "      <td>+</td>\n",
       "      <td>+</td>\n",
       "      <td>+</td>\n",
       "      <td>+</td>\n",
       "      <td>+</td>\n",
       "    </tr>\n",
       "  </tbody>\n",
       "</table>\n",
       "</div>"
      ],
      "text/plain": [
       "   WPF1 WPF2 SPF1 SPF2 SPF3\n",
       "0     0    0    -    -    -\n",
       "1     0    0    -    -    +\n",
       "2     0    0    -    +    -\n",
       "3     0    0    -    +    +\n",
       "4     0    0    +    -    -\n",
       "5     0    0    +    -    +\n",
       "6     0    0    +    +    -\n",
       "7     0    0    +    +    +\n",
       "8     -    -    -    -    -\n",
       "9     -    -    -    -    +\n",
       "10    -    -    -    +    -\n",
       "11    -    -    -    +    +\n",
       "12    -    -    +    -    -\n",
       "13    -    -    +    -    +\n",
       "14    -    -    +    +    -\n",
       "15    -    -    +    +    +\n",
       "16    -    +    -    -    -\n",
       "17    -    +    -    -    +\n",
       "18    -    +    -    +    -\n",
       "19    -    +    -    +    +\n",
       "20    -    +    +    -    -\n",
       "21    -    +    +    -    +\n",
       "22    -    +    +    +    -\n",
       "23    -    +    +    +    +\n",
       "24    0    0    -    -    -\n",
       "25    0    0    -    -    +\n",
       "26    0    0    -    +    -\n",
       "27    0    0    -    +    +\n",
       "28    0    0    +    -    -\n",
       "29    0    0    +    -    +\n",
       "30    0    0    +    +    -\n",
       "31    0    0    +    +    +\n",
       "32    +    -    -    -    -\n",
       "33    +    -    -    -    +\n",
       "34    +    -    -    +    -\n",
       "35    +    -    -    +    +\n",
       "36    +    -    +    -    -\n",
       "37    +    -    +    -    +\n",
       "38    +    -    +    +    -\n",
       "39    +    -    +    +    +\n",
       "40    +    +    -    -    -\n",
       "41    +    +    -    -    +\n",
       "42    +    +    -    +    -\n",
       "43    +    +    -    +    +\n",
       "44    +    +    +    -    -\n",
       "45    +    +    +    -    +\n",
       "46    +    +    +    +    -\n",
       "47    +    +    +    +    +"
      ]
     },
     "execution_count": 17,
     "metadata": {},
     "output_type": "execute_result"
    }
   ],
   "source": [
    "split_plot_design_default = experimental_design.fully_factorial_split_plot_default(wp,\n",
    "                                                                                   sp,\n",
    "                                                                                   default_state,\n",
    "                                                                                   randomized= False,\n",
    "                                                                                   run_values=\"keys\")\n",
    "sp_d_df = pd.DataFrame(split_plot_design_default)\n",
    "sp_d_df"
   ]
  },
  {
   "cell_type": "markdown",
   "metadata": {},
   "source": [
    "## 2x3 example with a conditional factor \n",
    "A common design is having 3 factors with 2 levels each, with the third factor confounded by the first two such that Factor_3 = Factor_1 * Factor_2. Here I have done it with the pandas dataframe, however you can do it in the list of dictionaries like this:\n",
    "\n",
    "```python\n",
    "for test_condtion in test_conditions:\n",
    "    temp = dict(test_condition)\n",
    "    new_column ={\"Factor_3\":temp[\"Factor_1\"]*temp[\"Factor_2\"]}\n",
    "    test_condition.update(new_column)\n",
    "```"
   ]
  },
  {
   "cell_type": "code",
   "execution_count": 18,
   "metadata": {},
   "outputs": [],
   "source": [
    "design = {}\n",
    "design[\"Factor_1\"] = {\"-\":-1,\"+\":1}\n",
    "design[\"Factor_2\"] = {\"-\":-1,\"+\":1}"
   ]
  },
  {
   "cell_type": "code",
   "execution_count": 19,
   "metadata": {},
   "outputs": [
    {
     "data": {
      "application/vnd.microsoft.datawrangler.viewer.v0+json": {
       "columns": [
        {
         "name": "index",
         "rawType": "int64",
         "type": "integer"
        },
        {
         "name": "Factor_1",
         "rawType": "int64",
         "type": "integer"
        },
        {
         "name": "Factor_2",
         "rawType": "int64",
         "type": "integer"
        },
        {
         "name": "Factor_3",
         "rawType": "int64",
         "type": "integer"
        }
       ],
       "conversionMethod": "pd.DataFrame",
       "ref": "81961e2c-99b8-48a8-9732-32dc59458b33",
       "rows": [
        [
         "0",
         "1",
         "-1",
         "-1"
        ],
        [
         "1",
         "-1",
         "1",
         "-1"
        ],
        [
         "2",
         "1",
         "1",
         "1"
        ],
        [
         "3",
         "-1",
         "-1",
         "1"
        ]
       ],
       "shape": {
        "columns": 3,
        "rows": 4
       }
      },
      "text/html": [
       "<div>\n",
       "<style scoped>\n",
       "    .dataframe tbody tr th:only-of-type {\n",
       "        vertical-align: middle;\n",
       "    }\n",
       "\n",
       "    .dataframe tbody tr th {\n",
       "        vertical-align: top;\n",
       "    }\n",
       "\n",
       "    .dataframe thead th {\n",
       "        text-align: right;\n",
       "    }\n",
       "</style>\n",
       "<table border=\"1\" class=\"dataframe\">\n",
       "  <thead>\n",
       "    <tr style=\"text-align: right;\">\n",
       "      <th></th>\n",
       "      <th>Factor_1</th>\n",
       "      <th>Factor_2</th>\n",
       "      <th>Factor_3</th>\n",
       "    </tr>\n",
       "  </thead>\n",
       "  <tbody>\n",
       "    <tr>\n",
       "      <th>0</th>\n",
       "      <td>1</td>\n",
       "      <td>-1</td>\n",
       "      <td>-1</td>\n",
       "    </tr>\n",
       "    <tr>\n",
       "      <th>1</th>\n",
       "      <td>-1</td>\n",
       "      <td>1</td>\n",
       "      <td>-1</td>\n",
       "    </tr>\n",
       "    <tr>\n",
       "      <th>2</th>\n",
       "      <td>1</td>\n",
       "      <td>1</td>\n",
       "      <td>1</td>\n",
       "    </tr>\n",
       "    <tr>\n",
       "      <th>3</th>\n",
       "      <td>-1</td>\n",
       "      <td>-1</td>\n",
       "      <td>1</td>\n",
       "    </tr>\n",
       "  </tbody>\n",
       "</table>\n",
       "</div>"
      ],
      "text/plain": [
       "   Factor_1  Factor_2  Factor_3\n",
       "0         1        -1        -1\n",
       "1        -1         1        -1\n",
       "2         1         1         1\n",
       "3        -1        -1         1"
      ]
     },
     "execution_count": 19,
     "metadata": {},
     "output_type": "execute_result"
    }
   ],
   "source": [
    "# it will give you a reproducible shuffle based on the random seed\n",
    "test_conditions_options = experimental_design.fully_factorial(design_dictionary= design, \n",
    "                                          randomized= True, \n",
    "                                          run_values= \"values\",\n",
    "                                          random_seed= 42)\n",
    "test_conditions_options_df = pd.DataFrame(test_conditions_options)\n",
    "test_conditions_options_df[\"Factor_3\"] = test_conditions_options_df.apply(lambda row: row.Factor_1 * row.Factor_2,\n",
    "                                                                                   axis=1)\n",
    "test_conditions_options_df"
   ]
  },
  {
   "cell_type": "markdown",
   "metadata": {},
   "source": [
    "## AMT design as an example (4 factors, 4 Levels x 4Levels X 7Levels X 11Levels)\n",
    "The experiment also has the conditions ('Modulation Type' = \"PCM/FM\",\"Data Rate\" = 20) and ('Modulation Type'= \"ARTM-CPM\",\"Data Rate\" = 1) excluded. The experiment outlined in the report is actually a split plot design."
   ]
  },
  {
   "cell_type": "code",
   "execution_count": 20,
   "metadata": {},
   "outputs": [],
   "source": [
    "amt_main = {\"Modulation Type\":{0:\"PCM/FM\",1:\"SOQPSK\", 2:\"SOQPSK-FEC\", 3:\"ARTM-CPM\"},\n",
    "       \"Data Rate\":{0:1, 1:5, 2:10, 3:20},\n",
    "       \"ABE Type\":{0:'None', 1:'AWGN 20', 2:'AWGN 18', 3:'AWGN 16.5',4:'Multiple UE 1',5:'Multiple UE 2',6:'Single UE 1'},\n",
    "       \"AMT Signal Level\":{0:0,1:1,2:2,3:3,4:4,5:5,6:6,7:7,8:8,9:9,10:10}}\n",
    "exclusions = [{'Modulation Type':\"PCM/FM\",\"Data Rate\":20},{'Modulation Type':\"ARTM-CPM\",\"Data Rate\":1}]"
   ]
  },
  {
   "cell_type": "code",
   "execution_count": 21,
   "metadata": {},
   "outputs": [
    {
     "data": {
      "application/vnd.microsoft.datawrangler.viewer.v0+json": {
       "columns": [
        {
         "name": "index",
         "rawType": "int64",
         "type": "integer"
        },
        {
         "name": "Modulation Type",
         "rawType": "object",
         "type": "string"
        },
        {
         "name": "Data Rate",
         "rawType": "int64",
         "type": "integer"
        },
        {
         "name": "ABE Type",
         "rawType": "object",
         "type": "string"
        },
        {
         "name": "AMT Signal Level",
         "rawType": "int64",
         "type": "integer"
        }
       ],
       "conversionMethod": "pd.DataFrame",
       "ref": "f7b42815-3f06-43b5-80b9-ce0529377260",
       "rows": [
        [
         "0",
         "PCM/FM",
         "1",
         "None",
         "0"
        ],
        [
         "1",
         "PCM/FM",
         "1",
         "None",
         "1"
        ],
        [
         "2",
         "PCM/FM",
         "1",
         "None",
         "2"
        ],
        [
         "3",
         "PCM/FM",
         "1",
         "None",
         "3"
        ],
        [
         "4",
         "PCM/FM",
         "1",
         "None",
         "4"
        ],
        [
         "5",
         "PCM/FM",
         "1",
         "None",
         "5"
        ],
        [
         "6",
         "PCM/FM",
         "1",
         "None",
         "6"
        ],
        [
         "7",
         "PCM/FM",
         "1",
         "None",
         "7"
        ],
        [
         "8",
         "PCM/FM",
         "1",
         "None",
         "8"
        ],
        [
         "9",
         "PCM/FM",
         "1",
         "None",
         "9"
        ],
        [
         "10",
         "PCM/FM",
         "1",
         "None",
         "10"
        ],
        [
         "11",
         "PCM/FM",
         "1",
         "AWGN 20",
         "0"
        ],
        [
         "12",
         "PCM/FM",
         "1",
         "AWGN 20",
         "1"
        ],
        [
         "13",
         "PCM/FM",
         "1",
         "AWGN 20",
         "2"
        ],
        [
         "14",
         "PCM/FM",
         "1",
         "AWGN 20",
         "3"
        ],
        [
         "15",
         "PCM/FM",
         "1",
         "AWGN 20",
         "4"
        ],
        [
         "16",
         "PCM/FM",
         "1",
         "AWGN 20",
         "5"
        ],
        [
         "17",
         "PCM/FM",
         "1",
         "AWGN 20",
         "6"
        ],
        [
         "18",
         "PCM/FM",
         "1",
         "AWGN 20",
         "7"
        ],
        [
         "19",
         "PCM/FM",
         "1",
         "AWGN 20",
         "8"
        ],
        [
         "20",
         "PCM/FM",
         "1",
         "AWGN 20",
         "9"
        ],
        [
         "21",
         "PCM/FM",
         "1",
         "AWGN 20",
         "10"
        ],
        [
         "22",
         "PCM/FM",
         "1",
         "AWGN 18",
         "0"
        ],
        [
         "23",
         "PCM/FM",
         "1",
         "AWGN 18",
         "1"
        ],
        [
         "24",
         "PCM/FM",
         "1",
         "AWGN 18",
         "2"
        ],
        [
         "25",
         "PCM/FM",
         "1",
         "AWGN 18",
         "3"
        ],
        [
         "26",
         "PCM/FM",
         "1",
         "AWGN 18",
         "4"
        ],
        [
         "27",
         "PCM/FM",
         "1",
         "AWGN 18",
         "5"
        ],
        [
         "28",
         "PCM/FM",
         "1",
         "AWGN 18",
         "6"
        ],
        [
         "29",
         "PCM/FM",
         "1",
         "AWGN 18",
         "7"
        ],
        [
         "30",
         "PCM/FM",
         "1",
         "AWGN 18",
         "8"
        ],
        [
         "31",
         "PCM/FM",
         "1",
         "AWGN 18",
         "9"
        ],
        [
         "32",
         "PCM/FM",
         "1",
         "AWGN 18",
         "10"
        ],
        [
         "33",
         "PCM/FM",
         "1",
         "AWGN 16.5",
         "0"
        ],
        [
         "34",
         "PCM/FM",
         "1",
         "AWGN 16.5",
         "1"
        ],
        [
         "35",
         "PCM/FM",
         "1",
         "AWGN 16.5",
         "2"
        ],
        [
         "36",
         "PCM/FM",
         "1",
         "AWGN 16.5",
         "3"
        ],
        [
         "37",
         "PCM/FM",
         "1",
         "AWGN 16.5",
         "4"
        ],
        [
         "38",
         "PCM/FM",
         "1",
         "AWGN 16.5",
         "5"
        ],
        [
         "39",
         "PCM/FM",
         "1",
         "AWGN 16.5",
         "6"
        ],
        [
         "40",
         "PCM/FM",
         "1",
         "AWGN 16.5",
         "7"
        ],
        [
         "41",
         "PCM/FM",
         "1",
         "AWGN 16.5",
         "8"
        ],
        [
         "42",
         "PCM/FM",
         "1",
         "AWGN 16.5",
         "9"
        ],
        [
         "43",
         "PCM/FM",
         "1",
         "AWGN 16.5",
         "10"
        ],
        [
         "44",
         "PCM/FM",
         "1",
         "Multiple UE 1",
         "0"
        ],
        [
         "45",
         "PCM/FM",
         "1",
         "Multiple UE 1",
         "1"
        ],
        [
         "46",
         "PCM/FM",
         "1",
         "Multiple UE 1",
         "2"
        ],
        [
         "47",
         "PCM/FM",
         "1",
         "Multiple UE 1",
         "3"
        ],
        [
         "48",
         "PCM/FM",
         "1",
         "Multiple UE 1",
         "4"
        ],
        [
         "49",
         "PCM/FM",
         "1",
         "Multiple UE 1",
         "5"
        ]
       ],
       "shape": {
        "columns": 4,
        "rows": 1078
       }
      },
      "text/html": [
       "<div>\n",
       "<style scoped>\n",
       "    .dataframe tbody tr th:only-of-type {\n",
       "        vertical-align: middle;\n",
       "    }\n",
       "\n",
       "    .dataframe tbody tr th {\n",
       "        vertical-align: top;\n",
       "    }\n",
       "\n",
       "    .dataframe thead th {\n",
       "        text-align: right;\n",
       "    }\n",
       "</style>\n",
       "<table border=\"1\" class=\"dataframe\">\n",
       "  <thead>\n",
       "    <tr style=\"text-align: right;\">\n",
       "      <th></th>\n",
       "      <th>Modulation Type</th>\n",
       "      <th>Data Rate</th>\n",
       "      <th>ABE Type</th>\n",
       "      <th>AMT Signal Level</th>\n",
       "    </tr>\n",
       "  </thead>\n",
       "  <tbody>\n",
       "    <tr>\n",
       "      <th>0</th>\n",
       "      <td>PCM/FM</td>\n",
       "      <td>1</td>\n",
       "      <td>None</td>\n",
       "      <td>0</td>\n",
       "    </tr>\n",
       "    <tr>\n",
       "      <th>1</th>\n",
       "      <td>PCM/FM</td>\n",
       "      <td>1</td>\n",
       "      <td>None</td>\n",
       "      <td>1</td>\n",
       "    </tr>\n",
       "    <tr>\n",
       "      <th>2</th>\n",
       "      <td>PCM/FM</td>\n",
       "      <td>1</td>\n",
       "      <td>None</td>\n",
       "      <td>2</td>\n",
       "    </tr>\n",
       "    <tr>\n",
       "      <th>3</th>\n",
       "      <td>PCM/FM</td>\n",
       "      <td>1</td>\n",
       "      <td>None</td>\n",
       "      <td>3</td>\n",
       "    </tr>\n",
       "    <tr>\n",
       "      <th>4</th>\n",
       "      <td>PCM/FM</td>\n",
       "      <td>1</td>\n",
       "      <td>None</td>\n",
       "      <td>4</td>\n",
       "    </tr>\n",
       "    <tr>\n",
       "      <th>...</th>\n",
       "      <td>...</td>\n",
       "      <td>...</td>\n",
       "      <td>...</td>\n",
       "      <td>...</td>\n",
       "    </tr>\n",
       "    <tr>\n",
       "      <th>1073</th>\n",
       "      <td>ARTM-CPM</td>\n",
       "      <td>20</td>\n",
       "      <td>Single UE 1</td>\n",
       "      <td>6</td>\n",
       "    </tr>\n",
       "    <tr>\n",
       "      <th>1074</th>\n",
       "      <td>ARTM-CPM</td>\n",
       "      <td>20</td>\n",
       "      <td>Single UE 1</td>\n",
       "      <td>7</td>\n",
       "    </tr>\n",
       "    <tr>\n",
       "      <th>1075</th>\n",
       "      <td>ARTM-CPM</td>\n",
       "      <td>20</td>\n",
       "      <td>Single UE 1</td>\n",
       "      <td>8</td>\n",
       "    </tr>\n",
       "    <tr>\n",
       "      <th>1076</th>\n",
       "      <td>ARTM-CPM</td>\n",
       "      <td>20</td>\n",
       "      <td>Single UE 1</td>\n",
       "      <td>9</td>\n",
       "    </tr>\n",
       "    <tr>\n",
       "      <th>1077</th>\n",
       "      <td>ARTM-CPM</td>\n",
       "      <td>20</td>\n",
       "      <td>Single UE 1</td>\n",
       "      <td>10</td>\n",
       "    </tr>\n",
       "  </tbody>\n",
       "</table>\n",
       "<p>1078 rows × 4 columns</p>\n",
       "</div>"
      ],
      "text/plain": [
       "     Modulation Type  Data Rate     ABE Type  AMT Signal Level\n",
       "0             PCM/FM          1         None                 0\n",
       "1             PCM/FM          1         None                 1\n",
       "2             PCM/FM          1         None                 2\n",
       "3             PCM/FM          1         None                 3\n",
       "4             PCM/FM          1         None                 4\n",
       "...              ...        ...          ...               ...\n",
       "1073        ARTM-CPM         20  Single UE 1                 6\n",
       "1074        ARTM-CPM         20  Single UE 1                 7\n",
       "1075        ARTM-CPM         20  Single UE 1                 8\n",
       "1076        ARTM-CPM         20  Single UE 1                 9\n",
       "1077        ARTM-CPM         20  Single UE 1                10\n",
       "\n",
       "[1078 rows x 4 columns]"
      ]
     },
     "execution_count": 21,
     "metadata": {},
     "output_type": "execute_result"
    }
   ],
   "source": [
    "test_conditions= experimental_design.fully_factorial(amt_main,randomized = False)\n",
    "test_conditions= experimental_design.filter_rows(test_conditions,exclusions)\n",
    "test_conditions_df= pd.DataFrame(test_conditions) \n",
    "test_conditions_df"
   ]
  },
  {
   "cell_type": "markdown",
   "metadata": {},
   "source": [
    "## Closed loop power control study as an example\n",
    "The closed loop power control study was an interleaved whole plot / split plot design. It has two experiments conducted at the same time with different whole and split plot conditions. "
   ]
  },
  {
   "cell_type": "code",
   "execution_count": 22,
   "metadata": {},
   "outputs": [],
   "source": [
    "clpc_modelling_sp = {\"Additional Loss (dB)\":{1:5, 2:10, 3:15, 4:20, 5:25, 6:30, 7:35, 8:40},\n",
    "                     \"Crosstalk\":{1:\"HIGH\",2:\"LOW\"},\n",
    "                     \"Offered Load\":{1:.1, 2:.2, 3:.4}}\n",
    "clpc_modelling_wp = {\"UL Scheduling\":{1:\"Channel Aware\",2:\"Interference Aware\"},\n",
    "                     \"P0\":{1:-80, 2:-85, 3:-90, 4:-95, 5:-100, 6:-105},\n",
    "                     \"alpha\":{1:.8, 2:1.0}}\n",
    "\n",
    "clpc_monitoring_wp ={\"UL Scheduling\":{-1:\"Channel Unaware\"},\n",
    "                     \"P0\":{-1:-85},\n",
    "                     \"alpha\":{-1:.8}}\n",
    "\n",
    "clpc_monitoring_sp = {\"Additional Loss (dB)\":{1:0,2:5,3:10,4:15,5:20,6:25,7:30,8:35,9:37.5,10:40,11:42.5,12:45},\n",
    "                     \"Crosstalk\":{1:\"HIGH\",2:\"LOW\"},\n",
    "                     \"Offered Load\":{1:.1, 2:.2, 3:.4}}"
   ]
  },
  {
   "cell_type": "code",
   "execution_count": 23,
   "metadata": {},
   "outputs": [],
   "source": [
    "clpc_design = experimental_design.fully_factorial_split_plot_interleaved(whole_plot_design_dictionary = clpc_modelling_wp,\n",
    "                                                                          split_plot_design_dictionary = clpc_modelling_sp,\n",
    "                                                                          whole_plot_design_dictionary_interleaved = clpc_monitoring_wp,\n",
    "                                                                          split_plot_design_dictionary_interleaved = clpc_monitoring_sp,\n",
    "                                                                          interleave_modulo = 4,\n",
    "                                                                          randomized = True,\n",
    "                                                                          run_values = 'values')"
   ]
  },
  {
   "cell_type": "code",
   "execution_count": 24,
   "metadata": {},
   "outputs": [],
   "source": [
    "clpc_design_df = pd.DataFrame(clpc_design)"
   ]
  },
  {
   "cell_type": "code",
   "execution_count": 25,
   "metadata": {},
   "outputs": [
    {
     "data": {
      "application/vnd.microsoft.datawrangler.viewer.v0+json": {
       "columns": [
        {
         "name": "index",
         "rawType": "int64",
         "type": "integer"
        },
        {
         "name": "UL Scheduling",
         "rawType": "object",
         "type": "string"
        },
        {
         "name": "P0",
         "rawType": "int64",
         "type": "integer"
        },
        {
         "name": "alpha",
         "rawType": "float64",
         "type": "float"
        },
        {
         "name": "Additional Loss (dB)",
         "rawType": "float64",
         "type": "float"
        },
        {
         "name": "Crosstalk",
         "rawType": "object",
         "type": "string"
        },
        {
         "name": "Offered Load",
         "rawType": "float64",
         "type": "float"
        }
       ],
       "conversionMethod": "pd.DataFrame",
       "ref": "74c7a221-79c4-42f4-8447-7690120e35d6",
       "rows": [
        [
         "0",
         "Channel Unaware",
         "-85",
         "0.8",
         "42.5",
         "HIGH",
         "0.1"
        ],
        [
         "1",
         "Channel Unaware",
         "-85",
         "0.8",
         "20.0",
         "HIGH",
         "0.1"
        ],
        [
         "2",
         "Channel Unaware",
         "-85",
         "0.8",
         "45.0",
         "LOW",
         "0.1"
        ],
        [
         "3",
         "Channel Unaware",
         "-85",
         "0.8",
         "45.0",
         "LOW",
         "0.4"
        ],
        [
         "4",
         "Channel Unaware",
         "-85",
         "0.8",
         "40.0",
         "HIGH",
         "0.1"
        ],
        [
         "5",
         "Channel Unaware",
         "-85",
         "0.8",
         "35.0",
         "HIGH",
         "0.2"
        ],
        [
         "6",
         "Channel Unaware",
         "-85",
         "0.8",
         "45.0",
         "HIGH",
         "0.2"
        ],
        [
         "7",
         "Channel Unaware",
         "-85",
         "0.8",
         "20.0",
         "HIGH",
         "0.4"
        ],
        [
         "8",
         "Channel Unaware",
         "-85",
         "0.8",
         "40.0",
         "HIGH",
         "0.2"
        ],
        [
         "9",
         "Channel Unaware",
         "-85",
         "0.8",
         "10.0",
         "HIGH",
         "0.4"
        ],
        [
         "10",
         "Channel Unaware",
         "-85",
         "0.8",
         "35.0",
         "LOW",
         "0.2"
        ],
        [
         "11",
         "Channel Unaware",
         "-85",
         "0.8",
         "25.0",
         "HIGH",
         "0.2"
        ],
        [
         "12",
         "Channel Unaware",
         "-85",
         "0.8",
         "0.0",
         "HIGH",
         "0.2"
        ],
        [
         "13",
         "Channel Unaware",
         "-85",
         "0.8",
         "30.0",
         "LOW",
         "0.2"
        ],
        [
         "14",
         "Channel Unaware",
         "-85",
         "0.8",
         "5.0",
         "LOW",
         "0.4"
        ],
        [
         "15",
         "Channel Unaware",
         "-85",
         "0.8",
         "45.0",
         "HIGH",
         "0.4"
        ],
        [
         "16",
         "Channel Unaware",
         "-85",
         "0.8",
         "5.0",
         "HIGH",
         "0.2"
        ],
        [
         "17",
         "Channel Unaware",
         "-85",
         "0.8",
         "5.0",
         "LOW",
         "0.2"
        ],
        [
         "18",
         "Channel Unaware",
         "-85",
         "0.8",
         "10.0",
         "LOW",
         "0.1"
        ],
        [
         "19",
         "Channel Unaware",
         "-85",
         "0.8",
         "45.0",
         "LOW",
         "0.2"
        ],
        [
         "20",
         "Channel Unaware",
         "-85",
         "0.8",
         "42.5",
         "LOW",
         "0.1"
        ],
        [
         "21",
         "Channel Unaware",
         "-85",
         "0.8",
         "30.0",
         "HIGH",
         "0.1"
        ],
        [
         "22",
         "Channel Unaware",
         "-85",
         "0.8",
         "35.0",
         "HIGH",
         "0.1"
        ],
        [
         "23",
         "Channel Unaware",
         "-85",
         "0.8",
         "35.0",
         "LOW",
         "0.4"
        ],
        [
         "24",
         "Channel Unaware",
         "-85",
         "0.8",
         "10.0",
         "HIGH",
         "0.1"
        ],
        [
         "25",
         "Channel Unaware",
         "-85",
         "0.8",
         "15.0",
         "LOW",
         "0.4"
        ],
        [
         "26",
         "Channel Unaware",
         "-85",
         "0.8",
         "0.0",
         "HIGH",
         "0.4"
        ],
        [
         "27",
         "Channel Unaware",
         "-85",
         "0.8",
         "0.0",
         "HIGH",
         "0.1"
        ],
        [
         "28",
         "Channel Unaware",
         "-85",
         "0.8",
         "10.0",
         "LOW",
         "0.4"
        ],
        [
         "29",
         "Channel Unaware",
         "-85",
         "0.8",
         "20.0",
         "LOW",
         "0.4"
        ],
        [
         "30",
         "Channel Unaware",
         "-85",
         "0.8",
         "20.0",
         "HIGH",
         "0.2"
        ],
        [
         "31",
         "Channel Unaware",
         "-85",
         "0.8",
         "0.0",
         "LOW",
         "0.1"
        ],
        [
         "32",
         "Channel Unaware",
         "-85",
         "0.8",
         "37.5",
         "HIGH",
         "0.4"
        ],
        [
         "33",
         "Channel Unaware",
         "-85",
         "0.8",
         "20.0",
         "LOW",
         "0.2"
        ],
        [
         "34",
         "Channel Unaware",
         "-85",
         "0.8",
         "30.0",
         "LOW",
         "0.4"
        ],
        [
         "35",
         "Channel Unaware",
         "-85",
         "0.8",
         "40.0",
         "LOW",
         "0.4"
        ],
        [
         "36",
         "Channel Unaware",
         "-85",
         "0.8",
         "15.0",
         "HIGH",
         "0.4"
        ],
        [
         "37",
         "Channel Unaware",
         "-85",
         "0.8",
         "20.0",
         "LOW",
         "0.1"
        ],
        [
         "38",
         "Channel Unaware",
         "-85",
         "0.8",
         "45.0",
         "HIGH",
         "0.1"
        ],
        [
         "39",
         "Channel Unaware",
         "-85",
         "0.8",
         "35.0",
         "HIGH",
         "0.4"
        ],
        [
         "40",
         "Channel Unaware",
         "-85",
         "0.8",
         "25.0",
         "LOW",
         "0.4"
        ],
        [
         "41",
         "Channel Unaware",
         "-85",
         "0.8",
         "25.0",
         "HIGH",
         "0.1"
        ],
        [
         "42",
         "Channel Unaware",
         "-85",
         "0.8",
         "15.0",
         "LOW",
         "0.1"
        ],
        [
         "43",
         "Channel Unaware",
         "-85",
         "0.8",
         "0.0",
         "LOW",
         "0.2"
        ],
        [
         "44",
         "Channel Unaware",
         "-85",
         "0.8",
         "37.5",
         "LOW",
         "0.2"
        ],
        [
         "45",
         "Channel Unaware",
         "-85",
         "0.8",
         "15.0",
         "HIGH",
         "0.2"
        ],
        [
         "46",
         "Channel Unaware",
         "-85",
         "0.8",
         "5.0",
         "LOW",
         "0.1"
        ],
        [
         "47",
         "Channel Unaware",
         "-85",
         "0.8",
         "42.5",
         "LOW",
         "0.2"
        ],
        [
         "48",
         "Channel Unaware",
         "-85",
         "0.8",
         "35.0",
         "LOW",
         "0.1"
        ],
        [
         "49",
         "Channel Unaware",
         "-85",
         "0.8",
         "25.0",
         "LOW",
         "0.2"
        ]
       ],
       "shape": {
        "columns": 6,
        "rows": 1584
       }
      },
      "text/html": [
       "<div>\n",
       "<style scoped>\n",
       "    .dataframe tbody tr th:only-of-type {\n",
       "        vertical-align: middle;\n",
       "    }\n",
       "\n",
       "    .dataframe tbody tr th {\n",
       "        vertical-align: top;\n",
       "    }\n",
       "\n",
       "    .dataframe thead th {\n",
       "        text-align: right;\n",
       "    }\n",
       "</style>\n",
       "<table border=\"1\" class=\"dataframe\">\n",
       "  <thead>\n",
       "    <tr style=\"text-align: right;\">\n",
       "      <th></th>\n",
       "      <th>UL Scheduling</th>\n",
       "      <th>P0</th>\n",
       "      <th>alpha</th>\n",
       "      <th>Additional Loss (dB)</th>\n",
       "      <th>Crosstalk</th>\n",
       "      <th>Offered Load</th>\n",
       "    </tr>\n",
       "  </thead>\n",
       "  <tbody>\n",
       "    <tr>\n",
       "      <th>0</th>\n",
       "      <td>Channel Unaware</td>\n",
       "      <td>-85</td>\n",
       "      <td>0.8</td>\n",
       "      <td>42.5</td>\n",
       "      <td>HIGH</td>\n",
       "      <td>0.1</td>\n",
       "    </tr>\n",
       "    <tr>\n",
       "      <th>1</th>\n",
       "      <td>Channel Unaware</td>\n",
       "      <td>-85</td>\n",
       "      <td>0.8</td>\n",
       "      <td>20.0</td>\n",
       "      <td>HIGH</td>\n",
       "      <td>0.1</td>\n",
       "    </tr>\n",
       "    <tr>\n",
       "      <th>2</th>\n",
       "      <td>Channel Unaware</td>\n",
       "      <td>-85</td>\n",
       "      <td>0.8</td>\n",
       "      <td>45.0</td>\n",
       "      <td>LOW</td>\n",
       "      <td>0.1</td>\n",
       "    </tr>\n",
       "    <tr>\n",
       "      <th>3</th>\n",
       "      <td>Channel Unaware</td>\n",
       "      <td>-85</td>\n",
       "      <td>0.8</td>\n",
       "      <td>45.0</td>\n",
       "      <td>LOW</td>\n",
       "      <td>0.4</td>\n",
       "    </tr>\n",
       "    <tr>\n",
       "      <th>4</th>\n",
       "      <td>Channel Unaware</td>\n",
       "      <td>-85</td>\n",
       "      <td>0.8</td>\n",
       "      <td>40.0</td>\n",
       "      <td>HIGH</td>\n",
       "      <td>0.1</td>\n",
       "    </tr>\n",
       "    <tr>\n",
       "      <th>...</th>\n",
       "      <td>...</td>\n",
       "      <td>...</td>\n",
       "      <td>...</td>\n",
       "      <td>...</td>\n",
       "      <td>...</td>\n",
       "      <td>...</td>\n",
       "    </tr>\n",
       "    <tr>\n",
       "      <th>1579</th>\n",
       "      <td>Interference Aware</td>\n",
       "      <td>-100</td>\n",
       "      <td>0.8</td>\n",
       "      <td>15.0</td>\n",
       "      <td>HIGH</td>\n",
       "      <td>0.4</td>\n",
       "    </tr>\n",
       "    <tr>\n",
       "      <th>1580</th>\n",
       "      <td>Interference Aware</td>\n",
       "      <td>-100</td>\n",
       "      <td>0.8</td>\n",
       "      <td>30.0</td>\n",
       "      <td>HIGH</td>\n",
       "      <td>0.4</td>\n",
       "    </tr>\n",
       "    <tr>\n",
       "      <th>1581</th>\n",
       "      <td>Interference Aware</td>\n",
       "      <td>-100</td>\n",
       "      <td>0.8</td>\n",
       "      <td>40.0</td>\n",
       "      <td>LOW</td>\n",
       "      <td>0.2</td>\n",
       "    </tr>\n",
       "    <tr>\n",
       "      <th>1582</th>\n",
       "      <td>Interference Aware</td>\n",
       "      <td>-100</td>\n",
       "      <td>0.8</td>\n",
       "      <td>20.0</td>\n",
       "      <td>HIGH</td>\n",
       "      <td>0.1</td>\n",
       "    </tr>\n",
       "    <tr>\n",
       "      <th>1583</th>\n",
       "      <td>Interference Aware</td>\n",
       "      <td>-100</td>\n",
       "      <td>0.8</td>\n",
       "      <td>25.0</td>\n",
       "      <td>HIGH</td>\n",
       "      <td>0.4</td>\n",
       "    </tr>\n",
       "  </tbody>\n",
       "</table>\n",
       "<p>1584 rows × 6 columns</p>\n",
       "</div>"
      ],
      "text/plain": [
       "           UL Scheduling   P0  alpha  Additional Loss (dB) Crosstalk  \\\n",
       "0        Channel Unaware  -85    0.8                  42.5      HIGH   \n",
       "1        Channel Unaware  -85    0.8                  20.0      HIGH   \n",
       "2        Channel Unaware  -85    0.8                  45.0       LOW   \n",
       "3        Channel Unaware  -85    0.8                  45.0       LOW   \n",
       "4        Channel Unaware  -85    0.8                  40.0      HIGH   \n",
       "...                  ...  ...    ...                   ...       ...   \n",
       "1579  Interference Aware -100    0.8                  15.0      HIGH   \n",
       "1580  Interference Aware -100    0.8                  30.0      HIGH   \n",
       "1581  Interference Aware -100    0.8                  40.0       LOW   \n",
       "1582  Interference Aware -100    0.8                  20.0      HIGH   \n",
       "1583  Interference Aware -100    0.8                  25.0      HIGH   \n",
       "\n",
       "      Offered Load  \n",
       "0              0.1  \n",
       "1              0.1  \n",
       "2              0.1  \n",
       "3              0.4  \n",
       "4              0.1  \n",
       "...            ...  \n",
       "1579           0.4  \n",
       "1580           0.4  \n",
       "1581           0.2  \n",
       "1582           0.1  \n",
       "1583           0.4  \n",
       "\n",
       "[1584 rows x 6 columns]"
      ]
     },
     "execution_count": 25,
     "metadata": {},
     "output_type": "execute_result"
    }
   ],
   "source": [
    "clpc_design_df"
   ]
  },
  {
   "cell_type": "code",
   "execution_count": 26,
   "metadata": {},
   "outputs": [
    {
     "data": {
      "application/vnd.microsoft.datawrangler.viewer.v0+json": {
       "columns": [
        {
         "name": "index",
         "rawType": "int64",
         "type": "integer"
        },
        {
         "name": "UL Scheduling",
         "rawType": "object",
         "type": "string"
        },
        {
         "name": "P0",
         "rawType": "int64",
         "type": "integer"
        },
        {
         "name": "alpha",
         "rawType": "float64",
         "type": "float"
        },
        {
         "name": "Additional Loss (dB)",
         "rawType": "float64",
         "type": "float"
        },
        {
         "name": "Crosstalk",
         "rawType": "object",
         "type": "string"
        },
        {
         "name": "Offered Load",
         "rawType": "float64",
         "type": "float"
        }
       ],
       "conversionMethod": "pd.DataFrame",
       "ref": "8fb3ebd0-48fb-4d80-a41a-2564755665ef",
       "rows": [
        [
         "0",
         "Channel Unaware",
         "-85",
         "0.8",
         "42.5",
         "HIGH",
         "0.1"
        ],
        [
         "1",
         "Channel Unaware",
         "-85",
         "0.8",
         "20.0",
         "HIGH",
         "0.1"
        ]
       ],
       "shape": {
        "columns": 6,
        "rows": 2
       }
      },
      "text/html": [
       "<div>\n",
       "<style scoped>\n",
       "    .dataframe tbody tr th:only-of-type {\n",
       "        vertical-align: middle;\n",
       "    }\n",
       "\n",
       "    .dataframe tbody tr th {\n",
       "        vertical-align: top;\n",
       "    }\n",
       "\n",
       "    .dataframe thead th {\n",
       "        text-align: right;\n",
       "    }\n",
       "</style>\n",
       "<table border=\"1\" class=\"dataframe\">\n",
       "  <thead>\n",
       "    <tr style=\"text-align: right;\">\n",
       "      <th></th>\n",
       "      <th>UL Scheduling</th>\n",
       "      <th>P0</th>\n",
       "      <th>alpha</th>\n",
       "      <th>Additional Loss (dB)</th>\n",
       "      <th>Crosstalk</th>\n",
       "      <th>Offered Load</th>\n",
       "    </tr>\n",
       "  </thead>\n",
       "  <tbody>\n",
       "    <tr>\n",
       "      <th>0</th>\n",
       "      <td>Channel Unaware</td>\n",
       "      <td>-85</td>\n",
       "      <td>0.8</td>\n",
       "      <td>42.5</td>\n",
       "      <td>HIGH</td>\n",
       "      <td>0.1</td>\n",
       "    </tr>\n",
       "    <tr>\n",
       "      <th>1</th>\n",
       "      <td>Channel Unaware</td>\n",
       "      <td>-85</td>\n",
       "      <td>0.8</td>\n",
       "      <td>20.0</td>\n",
       "      <td>HIGH</td>\n",
       "      <td>0.1</td>\n",
       "    </tr>\n",
       "  </tbody>\n",
       "</table>\n",
       "</div>"
      ],
      "text/plain": [
       "     UL Scheduling  P0  alpha  Additional Loss (dB) Crosstalk  Offered Load\n",
       "0  Channel Unaware -85    0.8                  42.5      HIGH           0.1\n",
       "1  Channel Unaware -85    0.8                  20.0      HIGH           0.1"
      ]
     },
     "execution_count": 26,
     "metadata": {},
     "output_type": "execute_result"
    }
   ],
   "source": [
    "clpc_design_df[0:2]"
   ]
  },
  {
   "cell_type": "code",
   "execution_count": 1,
   "metadata": {},
   "outputs": [
    {
     "name": "stdout",
     "output_type": "stream",
     "text": [
      "Importing experimental_design.experimental_designs\n",
      "It took 1.021554 s to import experimental_design.experimental_designs\n",
      "It took 1.021641 s to import all of the active modules\n"
     ]
    },
    {
     "data": {
      "application/vnd.microsoft.datawrangler.viewer.v0+json": {
       "columns": [
        {
         "name": "index",
         "rawType": "int64",
         "type": "integer"
        },
        {
         "name": "temperature",
         "rawType": "object",
         "type": "string"
        },
        {
         "name": "humidity",
         "rawType": "object",
         "type": "string"
        }
       ],
       "conversionMethod": "pd.DataFrame",
       "ref": "4f4e9622-1086-4879-81eb-b8d287f38caa",
       "rows": [
        [
         "0",
         "cold",
         "dry"
        ],
        [
         "1",
         "hot",
         "dry"
        ],
        [
         "2",
         "cold",
         "humid"
        ],
        [
         "3",
         "cold",
         "dry"
        ],
        [
         "4",
         "hot",
         "humid"
        ],
        [
         "5",
         "cold",
         "dry"
        ]
       ],
       "shape": {
        "columns": 2,
        "rows": 6
       }
      },
      "text/html": [
       "<div>\n",
       "<style scoped>\n",
       "    .dataframe tbody tr th:only-of-type {\n",
       "        vertical-align: middle;\n",
       "    }\n",
       "\n",
       "    .dataframe tbody tr th {\n",
       "        vertical-align: top;\n",
       "    }\n",
       "\n",
       "    .dataframe thead th {\n",
       "        text-align: right;\n",
       "    }\n",
       "</style>\n",
       "<table border=\"1\" class=\"dataframe\">\n",
       "  <thead>\n",
       "    <tr style=\"text-align: right;\">\n",
       "      <th></th>\n",
       "      <th>temperature</th>\n",
       "      <th>humidity</th>\n",
       "    </tr>\n",
       "  </thead>\n",
       "  <tbody>\n",
       "    <tr>\n",
       "      <th>0</th>\n",
       "      <td>cold</td>\n",
       "      <td>dry</td>\n",
       "    </tr>\n",
       "    <tr>\n",
       "      <th>1</th>\n",
       "      <td>hot</td>\n",
       "      <td>dry</td>\n",
       "    </tr>\n",
       "    <tr>\n",
       "      <th>2</th>\n",
       "      <td>cold</td>\n",
       "      <td>humid</td>\n",
       "    </tr>\n",
       "    <tr>\n",
       "      <th>3</th>\n",
       "      <td>cold</td>\n",
       "      <td>dry</td>\n",
       "    </tr>\n",
       "    <tr>\n",
       "      <th>4</th>\n",
       "      <td>hot</td>\n",
       "      <td>humid</td>\n",
       "    </tr>\n",
       "    <tr>\n",
       "      <th>5</th>\n",
       "      <td>cold</td>\n",
       "      <td>dry</td>\n",
       "    </tr>\n",
       "  </tbody>\n",
       "</table>\n",
       "</div>"
      ],
      "text/plain": [
       "  temperature humidity\n",
       "0        cold      dry\n",
       "1         hot      dry\n",
       "2        cold    humid\n",
       "3        cold      dry\n",
       "4         hot    humid\n",
       "5        cold      dry"
      ]
     },
     "execution_count": 1,
     "metadata": {},
     "output_type": "execute_result"
    }
   ],
   "source": [
    "# Example in top level docs\n",
    "import experimental_design \n",
    "import pandas as pd\n",
    "design = {\"temperature\":{\"-\":\"cold\",\"+\":\"hot\"},\"humidity\":{\"-\":\"dry\",\"+\":\"humid\"}}\n",
    "default = {\"temperature\":{0:\"cold\"},\"humidity\":{0:\"dry\"}}  \n",
    "table = experimental_design.fully_factorial_default(design_dictionary=design, \n",
    "                                                    default_state = default, \n",
    "                                                    default_modulo=2,\n",
    "                                                    randomized=True,\n",
    "                                                    run_values=\"values\",\n",
    "                                                    random_seed =42)\n",
    "df = pd.DataFrame(table)\n",
    "df"
   ]
  },
  {
   "cell_type": "code",
   "execution_count": null,
   "metadata": {},
   "outputs": [],
   "source": []
  }
 ],
 "metadata": {
  "kernelspec": {
   "display_name": "Python 3",
   "language": "python",
   "name": "python3"
  },
  "language_info": {
   "codemirror_mode": {
    "name": "ipython",
    "version": 3
   },
   "file_extension": ".py",
   "mimetype": "text/x-python",
   "name": "python",
   "nbconvert_exporter": "python",
   "pygments_lexer": "ipython3",
   "version": "3.13.2"
  }
 },
 "nbformat": 4,
 "nbformat_minor": 2
}
